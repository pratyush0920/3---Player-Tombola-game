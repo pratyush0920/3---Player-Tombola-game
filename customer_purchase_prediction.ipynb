{
  "nbformat": 4,
  "nbformat_minor": 0,
  "metadata": {
    "colab": {
      "name": "customer_purchase_prediction.ipynb",
      "provenance": [],
      "mount_file_id": "1_Hif70QZS9wjYbmgCkyLZCHNkKPdkPuo",
      "authorship_tag": "ABX9TyPPV7ByAgnP6BsP3ygRQo5M"
    },
    "kernelspec": {
      "name": "python3",
      "display_name": "Python 3"
    },
    "language_info": {
      "name": "python"
    }
  },
  "cells": [
    {
      "cell_type": "code",
      "metadata": {
        "id": "F0Liptrr4zzx"
      },
      "source": [
        "import numpy as np\n",
        "import pandas as pd\n",
        "import matplotlib.pyplot as plt\n",
        "import seaborn as sns"
      ],
      "execution_count": null,
      "outputs": []
    },
    {
      "cell_type": "code",
      "metadata": {
        "colab": {
          "base_uri": "https://localhost:8080/",
          "height": 402
        },
        "id": "oTfXHzP959Vr",
        "outputId": "01a09ea8-375b-4ac3-decf-0a9f67adcd30"
      },
      "source": [
        "df = pd.read_csv('/content/drive/MyDrive/pidilite ds intern/train.csv')\n",
        "df"
      ],
      "execution_count": null,
      "outputs": [
        {
          "output_type": "execute_result",
          "data": {
            "text/html": [
              "<div>\n",
              "<style scoped>\n",
              "    .dataframe tbody tr th:only-of-type {\n",
              "        vertical-align: middle;\n",
              "    }\n",
              "\n",
              "    .dataframe tbody tr th {\n",
              "        vertical-align: top;\n",
              "    }\n",
              "\n",
              "    .dataframe thead th {\n",
              "        text-align: right;\n",
              "    }\n",
              "</style>\n",
              "<table border=\"1\" class=\"dataframe\">\n",
              "  <thead>\n",
              "    <tr style=\"text-align: right;\">\n",
              "      <th></th>\n",
              "      <th>ID</th>\n",
              "      <th>STATE</th>\n",
              "      <th>AGE</th>\n",
              "      <th>OCCUPATION</th>\n",
              "      <th>INCOME_GROUP</th>\n",
              "      <th>CUSTOMER_SINCE</th>\n",
              "      <th>LOYALTY_PROGRAM</th>\n",
              "      <th>PAST_PURCHASE</th>\n",
              "      <th>PURCHASE</th>\n",
              "    </tr>\n",
              "  </thead>\n",
              "  <tbody>\n",
              "    <tr>\n",
              "      <th>0</th>\n",
              "      <td>1</td>\n",
              "      <td>Uttar Pradesh</td>\n",
              "      <td>28</td>\n",
              "      <td></td>\n",
              "      <td>Low</td>\n",
              "      <td>2018</td>\n",
              "      <td>No</td>\n",
              "      <td>4937</td>\n",
              "      <td>No</td>\n",
              "    </tr>\n",
              "    <tr>\n",
              "      <th>1</th>\n",
              "      <td>2</td>\n",
              "      <td>Madhya Pradesh</td>\n",
              "      <td>27</td>\n",
              "      <td>Salaried</td>\n",
              "      <td>Low</td>\n",
              "      <td>2018</td>\n",
              "      <td>No</td>\n",
              "      <td>10834</td>\n",
              "      <td>No</td>\n",
              "    </tr>\n",
              "    <tr>\n",
              "      <th>2</th>\n",
              "      <td>3</td>\n",
              "      <td>West Bengal</td>\n",
              "      <td>62</td>\n",
              "      <td></td>\n",
              "      <td>High</td>\n",
              "      <td>2013</td>\n",
              "      <td>NaN</td>\n",
              "      <td>8610</td>\n",
              "      <td>Yes</td>\n",
              "    </tr>\n",
              "    <tr>\n",
              "      <th>3</th>\n",
              "      <td>4</td>\n",
              "      <td>Tamil Nadu</td>\n",
              "      <td>27</td>\n",
              "      <td>Salaried</td>\n",
              "      <td>Low</td>\n",
              "      <td>2018</td>\n",
              "      <td>No</td>\n",
              "      <td>14374</td>\n",
              "      <td>Yes</td>\n",
              "    </tr>\n",
              "    <tr>\n",
              "      <th>4</th>\n",
              "      <td>5</td>\n",
              "      <td>Uttar Pradesh</td>\n",
              "      <td>40</td>\n",
              "      <td>Self employed</td>\n",
              "      <td>High</td>\n",
              "      <td>2015</td>\n",
              "      <td>No</td>\n",
              "      <td>13158</td>\n",
              "      <td>No</td>\n",
              "    </tr>\n",
              "    <tr>\n",
              "      <th>...</th>\n",
              "      <td>...</td>\n",
              "      <td>...</td>\n",
              "      <td>...</td>\n",
              "      <td>...</td>\n",
              "      <td>...</td>\n",
              "      <td>...</td>\n",
              "      <td>...</td>\n",
              "      <td>...</td>\n",
              "      <td>...</td>\n",
              "    </tr>\n",
              "    <tr>\n",
              "      <th>149995</th>\n",
              "      <td>149996</td>\n",
              "      <td>Assam</td>\n",
              "      <td>29</td>\n",
              "      <td>Salaried</td>\n",
              "      <td>Low</td>\n",
              "      <td>2017</td>\n",
              "      <td>No</td>\n",
              "      <td>6241</td>\n",
              "      <td>No</td>\n",
              "    </tr>\n",
              "    <tr>\n",
              "      <th>149996</th>\n",
              "      <td>149997</td>\n",
              "      <td>Andhra Pradesh</td>\n",
              "      <td>53</td>\n",
              "      <td>Self employed</td>\n",
              "      <td>Medium</td>\n",
              "      <td>2010</td>\n",
              "      <td>No</td>\n",
              "      <td>29447</td>\n",
              "      <td>No</td>\n",
              "    </tr>\n",
              "    <tr>\n",
              "      <th>149997</th>\n",
              "      <td>149998</td>\n",
              "      <td>Odisha</td>\n",
              "      <td>31</td>\n",
              "      <td></td>\n",
              "      <td>Low</td>\n",
              "      <td>2018</td>\n",
              "      <td>No</td>\n",
              "      <td>4856</td>\n",
              "      <td>No</td>\n",
              "    </tr>\n",
              "    <tr>\n",
              "      <th>149998</th>\n",
              "      <td>149999</td>\n",
              "      <td>Andhra Pradesh</td>\n",
              "      <td>54</td>\n",
              "      <td>Self employed</td>\n",
              "      <td>High</td>\n",
              "      <td>2010</td>\n",
              "      <td>Yes</td>\n",
              "      <td>10031</td>\n",
              "      <td>Yes</td>\n",
              "    </tr>\n",
              "    <tr>\n",
              "      <th>149999</th>\n",
              "      <td>150000</td>\n",
              "      <td>Maharashtra</td>\n",
              "      <td>60</td>\n",
              "      <td></td>\n",
              "      <td>Medium</td>\n",
              "      <td>2013</td>\n",
              "      <td>NaN</td>\n",
              "      <td>7761</td>\n",
              "      <td>Yes</td>\n",
              "    </tr>\n",
              "  </tbody>\n",
              "</table>\n",
              "<p>150000 rows × 9 columns</p>\n",
              "</div>"
            ],
            "text/plain": [
              "            ID           STATE  AGE  ... LOYALTY_PROGRAM PAST_PURCHASE  PURCHASE\n",
              "0            1   Uttar Pradesh   28  ...              No          4937        No\n",
              "1            2  Madhya Pradesh   27  ...              No         10834        No\n",
              "2            3     West Bengal   62  ...             NaN          8610       Yes\n",
              "3            4      Tamil Nadu   27  ...              No         14374       Yes\n",
              "4            5   Uttar Pradesh   40  ...              No         13158        No\n",
              "...        ...             ...  ...  ...             ...           ...       ...\n",
              "149995  149996           Assam   29  ...              No          6241        No\n",
              "149996  149997  Andhra Pradesh   53  ...              No         29447        No\n",
              "149997  149998          Odisha   31  ...              No          4856        No\n",
              "149998  149999  Andhra Pradesh   54  ...             Yes         10031       Yes\n",
              "149999  150000     Maharashtra   60  ...             NaN          7761       Yes\n",
              "\n",
              "[150000 rows x 9 columns]"
            ]
          },
          "metadata": {
            "tags": []
          },
          "execution_count": 2
        }
      ]
    },
    {
      "cell_type": "code",
      "metadata": {
        "colab": {
          "base_uri": "https://localhost:8080/",
          "height": 195
        },
        "id": "cCs-csBb6Hcp",
        "outputId": "cffa4e59-10e1-49f1-f52a-61364a1b79b5"
      },
      "source": [
        "# Displays the 1st 5 enteries in the dataset\n",
        "df.head()"
      ],
      "execution_count": null,
      "outputs": [
        {
          "output_type": "execute_result",
          "data": {
            "text/html": [
              "<div>\n",
              "<style scoped>\n",
              "    .dataframe tbody tr th:only-of-type {\n",
              "        vertical-align: middle;\n",
              "    }\n",
              "\n",
              "    .dataframe tbody tr th {\n",
              "        vertical-align: top;\n",
              "    }\n",
              "\n",
              "    .dataframe thead th {\n",
              "        text-align: right;\n",
              "    }\n",
              "</style>\n",
              "<table border=\"1\" class=\"dataframe\">\n",
              "  <thead>\n",
              "    <tr style=\"text-align: right;\">\n",
              "      <th></th>\n",
              "      <th>ID</th>\n",
              "      <th>STATE</th>\n",
              "      <th>AGE</th>\n",
              "      <th>OCCUPATION</th>\n",
              "      <th>INCOME_GROUP</th>\n",
              "      <th>CUSTOMER_SINCE</th>\n",
              "      <th>LOYALTY_PROGRAM</th>\n",
              "      <th>PAST_PURCHASE</th>\n",
              "      <th>PURCHASE</th>\n",
              "    </tr>\n",
              "  </thead>\n",
              "  <tbody>\n",
              "    <tr>\n",
              "      <th>0</th>\n",
              "      <td>1</td>\n",
              "      <td>Uttar Pradesh</td>\n",
              "      <td>28</td>\n",
              "      <td></td>\n",
              "      <td>Low</td>\n",
              "      <td>2018</td>\n",
              "      <td>No</td>\n",
              "      <td>4937</td>\n",
              "      <td>No</td>\n",
              "    </tr>\n",
              "    <tr>\n",
              "      <th>1</th>\n",
              "      <td>2</td>\n",
              "      <td>Madhya Pradesh</td>\n",
              "      <td>27</td>\n",
              "      <td>Salaried</td>\n",
              "      <td>Low</td>\n",
              "      <td>2018</td>\n",
              "      <td>No</td>\n",
              "      <td>10834</td>\n",
              "      <td>No</td>\n",
              "    </tr>\n",
              "    <tr>\n",
              "      <th>2</th>\n",
              "      <td>3</td>\n",
              "      <td>West Bengal</td>\n",
              "      <td>62</td>\n",
              "      <td></td>\n",
              "      <td>High</td>\n",
              "      <td>2013</td>\n",
              "      <td>NaN</td>\n",
              "      <td>8610</td>\n",
              "      <td>Yes</td>\n",
              "    </tr>\n",
              "    <tr>\n",
              "      <th>3</th>\n",
              "      <td>4</td>\n",
              "      <td>Tamil Nadu</td>\n",
              "      <td>27</td>\n",
              "      <td>Salaried</td>\n",
              "      <td>Low</td>\n",
              "      <td>2018</td>\n",
              "      <td>No</td>\n",
              "      <td>14374</td>\n",
              "      <td>Yes</td>\n",
              "    </tr>\n",
              "    <tr>\n",
              "      <th>4</th>\n",
              "      <td>5</td>\n",
              "      <td>Uttar Pradesh</td>\n",
              "      <td>40</td>\n",
              "      <td>Self employed</td>\n",
              "      <td>High</td>\n",
              "      <td>2015</td>\n",
              "      <td>No</td>\n",
              "      <td>13158</td>\n",
              "      <td>No</td>\n",
              "    </tr>\n",
              "  </tbody>\n",
              "</table>\n",
              "</div>"
            ],
            "text/plain": [
              "   ID           STATE  AGE  ... LOYALTY_PROGRAM PAST_PURCHASE  PURCHASE\n",
              "0   1   Uttar Pradesh   28  ...              No          4937        No\n",
              "1   2  Madhya Pradesh   27  ...              No         10834        No\n",
              "2   3     West Bengal   62  ...             NaN          8610       Yes\n",
              "3   4      Tamil Nadu   27  ...              No         14374       Yes\n",
              "4   5   Uttar Pradesh   40  ...              No         13158        No\n",
              "\n",
              "[5 rows x 9 columns]"
            ]
          },
          "metadata": {
            "tags": []
          },
          "execution_count": 3
        }
      ]
    },
    {
      "cell_type": "code",
      "metadata": {
        "colab": {
          "base_uri": "https://localhost:8080/"
        },
        "id": "vMIHgDL46O84",
        "outputId": "c7fe1def-1d43-4dce-f94d-58b269b634cf"
      },
      "source": [
        "lst  = list(df.columns)\n",
        "print(lst)"
      ],
      "execution_count": null,
      "outputs": [
        {
          "output_type": "stream",
          "text": [
            "['ID', 'STATE', 'AGE', 'OCCUPATION', 'INCOME_GROUP', 'CUSTOMER_SINCE', 'LOYALTY_PROGRAM', 'PAST_PURCHASE', 'PURCHASE']\n"
          ],
          "name": "stdout"
        }
      ]
    },
    {
      "cell_type": "code",
      "metadata": {
        "colab": {
          "base_uri": "https://localhost:8080/"
        },
        "id": "UKFNVFHqMNsw",
        "outputId": "33f9aea8-a74d-454b-f168-998e746ef09d"
      },
      "source": [
        "df.dtypes"
      ],
      "execution_count": null,
      "outputs": [
        {
          "output_type": "execute_result",
          "data": {
            "text/plain": [
              "ID                  int64\n",
              "STATE              object\n",
              "AGE                 int64\n",
              "OCCUPATION         object\n",
              "INCOME_GROUP       object\n",
              "CUSTOMER_SINCE      int64\n",
              "LOYALTY_PROGRAM    object\n",
              "PAST_PURCHASE       int64\n",
              "PURCHASE           object\n",
              "dtype: object"
            ]
          },
          "metadata": {
            "tags": []
          },
          "execution_count": 5
        }
      ]
    },
    {
      "cell_type": "code",
      "metadata": {
        "colab": {
          "base_uri": "https://localhost:8080/"
        },
        "id": "-HVFRQe3Nyhd",
        "outputId": "7f5cd733-bde6-48f5-ba49-e2c766341220"
      },
      "source": [
        "df.isnull().sum()"
      ],
      "execution_count": null,
      "outputs": [
        {
          "output_type": "execute_result",
          "data": {
            "text/plain": [
              "ID                     0\n",
              "STATE                  0\n",
              "AGE                    0\n",
              "OCCUPATION             0\n",
              "INCOME_GROUP           0\n",
              "CUSTOMER_SINCE         0\n",
              "LOYALTY_PROGRAM    17824\n",
              "PAST_PURCHASE          0\n",
              "PURCHASE               0\n",
              "dtype: int64"
            ]
          },
          "metadata": {
            "tags": []
          },
          "execution_count": 6
        }
      ]
    },
    {
      "cell_type": "code",
      "metadata": {
        "colab": {
          "base_uri": "https://localhost:8080/"
        },
        "id": "vRPnSO4OMXlY",
        "outputId": "46151fed-c9e7-4dc7-c640-b8d45b67d918"
      },
      "source": [
        "print(df['ID'].unique())\n",
        "print(df['STATE'].unique())\n",
        "print(df['AGE'].unique())\n",
        "print(df['OCCUPATION'].unique())\n",
        "print(df['INCOME_GROUP'].unique())\n",
        "print(df['CUSTOMER_SINCE'].unique())\n",
        "print(df['LOYALTY_PROGRAM'].unique())\n",
        "print(df['PAST_PURCHASE'].unique())\n",
        "print(df['PURCHASE'].unique())"
      ],
      "execution_count": null,
      "outputs": [
        {
          "output_type": "stream",
          "text": [
            "[     1      2      3 ... 149998 149999 150000]\n",
            "['Uttar Pradesh' 'Madhya Pradesh' 'West Bengal' 'Tamil Nadu' 'Maharashtra'\n",
            " 'Kerala' 'Goa' 'Karnataka' 'Andhra Pradesh' 'Telangana' 'Chandigarh'\n",
            " 'Nagaland' 'Andaman and Nicobar Islands' 'Tripura' 'Delhi'\n",
            " 'Himachal Pradesh' ' ' 'Puducherry' 'Sikkim' 'Gujarat' 'Odisha' 'Bihar'\n",
            " 'Punjab' 'Arunachal Pradesh' 'Haryana' 'Rajasthan' 'Uttarakhand'\n",
            " 'Jammu and Kashmir' 'Assam' 'Manipur' 'Mizoram' 'Jharkhand'\n",
            " 'Chhattisgarh' 'Meghalaya']\n",
            "[28 27 62 40 68 45 56 67 37 26 31 52 43 32 63 73 46 25 79 44 35 41 55 39\n",
            " 47 84 42 53 29 57 54 58 50 33 24 34 48 70 36 49 59 38 77 65 60 64 51 69\n",
            " 61 30 80 74 71 82 75 78 76 66 72 83 81 85 23]\n",
            "[' ' 'Salaried' 'Self employed' 'Business']\n",
            "['Low' 'High' 'Medium' ' ']\n",
            "[2018 2013 2015 2010 2014 2019 2017 2016 2011 2012 2009 2008]\n",
            "['No' nan 'Yes']\n",
            "[ 4937 10834  8610 ... 17084 23510 29447]\n",
            "['No' 'Yes']\n"
          ],
          "name": "stdout"
        }
      ]
    },
    {
      "cell_type": "markdown",
      "metadata": {
        "id": "ai3cIQBFIky2"
      },
      "source": [
        "# Data Cleaning on Training dataset"
      ]
    },
    {
      "cell_type": "code",
      "metadata": {
        "id": "JAg-Kg-qFlVq"
      },
      "source": [
        "#df = df.drop('ID',axis=1)\n",
        "#df.head(2)"
      ],
      "execution_count": null,
      "outputs": []
    },
    {
      "cell_type": "code",
      "metadata": {
        "colab": {
          "base_uri": "https://localhost:8080/",
          "height": 402
        },
        "id": "lb2UPEaWWHoN",
        "outputId": "1521f83e-6291-4118-aaec-0113d10c36a9"
      },
      "source": [
        "df = pd.read_csv('/content/drive/MyDrive/pidilite ds intern/train.csv', na_values= [' '])\n",
        "df"
      ],
      "execution_count": null,
      "outputs": [
        {
          "output_type": "execute_result",
          "data": {
            "text/html": [
              "<div>\n",
              "<style scoped>\n",
              "    .dataframe tbody tr th:only-of-type {\n",
              "        vertical-align: middle;\n",
              "    }\n",
              "\n",
              "    .dataframe tbody tr th {\n",
              "        vertical-align: top;\n",
              "    }\n",
              "\n",
              "    .dataframe thead th {\n",
              "        text-align: right;\n",
              "    }\n",
              "</style>\n",
              "<table border=\"1\" class=\"dataframe\">\n",
              "  <thead>\n",
              "    <tr style=\"text-align: right;\">\n",
              "      <th></th>\n",
              "      <th>ID</th>\n",
              "      <th>STATE</th>\n",
              "      <th>AGE</th>\n",
              "      <th>OCCUPATION</th>\n",
              "      <th>INCOME_GROUP</th>\n",
              "      <th>CUSTOMER_SINCE</th>\n",
              "      <th>LOYALTY_PROGRAM</th>\n",
              "      <th>PAST_PURCHASE</th>\n",
              "      <th>PURCHASE</th>\n",
              "    </tr>\n",
              "  </thead>\n",
              "  <tbody>\n",
              "    <tr>\n",
              "      <th>0</th>\n",
              "      <td>1</td>\n",
              "      <td>Uttar Pradesh</td>\n",
              "      <td>28</td>\n",
              "      <td>NaN</td>\n",
              "      <td>Low</td>\n",
              "      <td>2018</td>\n",
              "      <td>No</td>\n",
              "      <td>4937</td>\n",
              "      <td>No</td>\n",
              "    </tr>\n",
              "    <tr>\n",
              "      <th>1</th>\n",
              "      <td>2</td>\n",
              "      <td>Madhya Pradesh</td>\n",
              "      <td>27</td>\n",
              "      <td>Salaried</td>\n",
              "      <td>Low</td>\n",
              "      <td>2018</td>\n",
              "      <td>No</td>\n",
              "      <td>10834</td>\n",
              "      <td>No</td>\n",
              "    </tr>\n",
              "    <tr>\n",
              "      <th>2</th>\n",
              "      <td>3</td>\n",
              "      <td>West Bengal</td>\n",
              "      <td>62</td>\n",
              "      <td>NaN</td>\n",
              "      <td>High</td>\n",
              "      <td>2013</td>\n",
              "      <td>NaN</td>\n",
              "      <td>8610</td>\n",
              "      <td>Yes</td>\n",
              "    </tr>\n",
              "    <tr>\n",
              "      <th>3</th>\n",
              "      <td>4</td>\n",
              "      <td>Tamil Nadu</td>\n",
              "      <td>27</td>\n",
              "      <td>Salaried</td>\n",
              "      <td>Low</td>\n",
              "      <td>2018</td>\n",
              "      <td>No</td>\n",
              "      <td>14374</td>\n",
              "      <td>Yes</td>\n",
              "    </tr>\n",
              "    <tr>\n",
              "      <th>4</th>\n",
              "      <td>5</td>\n",
              "      <td>Uttar Pradesh</td>\n",
              "      <td>40</td>\n",
              "      <td>Self employed</td>\n",
              "      <td>High</td>\n",
              "      <td>2015</td>\n",
              "      <td>No</td>\n",
              "      <td>13158</td>\n",
              "      <td>No</td>\n",
              "    </tr>\n",
              "    <tr>\n",
              "      <th>...</th>\n",
              "      <td>...</td>\n",
              "      <td>...</td>\n",
              "      <td>...</td>\n",
              "      <td>...</td>\n",
              "      <td>...</td>\n",
              "      <td>...</td>\n",
              "      <td>...</td>\n",
              "      <td>...</td>\n",
              "      <td>...</td>\n",
              "    </tr>\n",
              "    <tr>\n",
              "      <th>149995</th>\n",
              "      <td>149996</td>\n",
              "      <td>Assam</td>\n",
              "      <td>29</td>\n",
              "      <td>Salaried</td>\n",
              "      <td>Low</td>\n",
              "      <td>2017</td>\n",
              "      <td>No</td>\n",
              "      <td>6241</td>\n",
              "      <td>No</td>\n",
              "    </tr>\n",
              "    <tr>\n",
              "      <th>149996</th>\n",
              "      <td>149997</td>\n",
              "      <td>Andhra Pradesh</td>\n",
              "      <td>53</td>\n",
              "      <td>Self employed</td>\n",
              "      <td>Medium</td>\n",
              "      <td>2010</td>\n",
              "      <td>No</td>\n",
              "      <td>29447</td>\n",
              "      <td>No</td>\n",
              "    </tr>\n",
              "    <tr>\n",
              "      <th>149997</th>\n",
              "      <td>149998</td>\n",
              "      <td>Odisha</td>\n",
              "      <td>31</td>\n",
              "      <td>NaN</td>\n",
              "      <td>Low</td>\n",
              "      <td>2018</td>\n",
              "      <td>No</td>\n",
              "      <td>4856</td>\n",
              "      <td>No</td>\n",
              "    </tr>\n",
              "    <tr>\n",
              "      <th>149998</th>\n",
              "      <td>149999</td>\n",
              "      <td>Andhra Pradesh</td>\n",
              "      <td>54</td>\n",
              "      <td>Self employed</td>\n",
              "      <td>High</td>\n",
              "      <td>2010</td>\n",
              "      <td>Yes</td>\n",
              "      <td>10031</td>\n",
              "      <td>Yes</td>\n",
              "    </tr>\n",
              "    <tr>\n",
              "      <th>149999</th>\n",
              "      <td>150000</td>\n",
              "      <td>Maharashtra</td>\n",
              "      <td>60</td>\n",
              "      <td>NaN</td>\n",
              "      <td>Medium</td>\n",
              "      <td>2013</td>\n",
              "      <td>NaN</td>\n",
              "      <td>7761</td>\n",
              "      <td>Yes</td>\n",
              "    </tr>\n",
              "  </tbody>\n",
              "</table>\n",
              "<p>150000 rows × 9 columns</p>\n",
              "</div>"
            ],
            "text/plain": [
              "            ID           STATE  AGE  ... LOYALTY_PROGRAM PAST_PURCHASE  PURCHASE\n",
              "0            1   Uttar Pradesh   28  ...              No          4937        No\n",
              "1            2  Madhya Pradesh   27  ...              No         10834        No\n",
              "2            3     West Bengal   62  ...             NaN          8610       Yes\n",
              "3            4      Tamil Nadu   27  ...              No         14374       Yes\n",
              "4            5   Uttar Pradesh   40  ...              No         13158        No\n",
              "...        ...             ...  ...  ...             ...           ...       ...\n",
              "149995  149996           Assam   29  ...              No          6241        No\n",
              "149996  149997  Andhra Pradesh   53  ...              No         29447        No\n",
              "149997  149998          Odisha   31  ...              No          4856        No\n",
              "149998  149999  Andhra Pradesh   54  ...             Yes         10031       Yes\n",
              "149999  150000     Maharashtra   60  ...             NaN          7761       Yes\n",
              "\n",
              "[150000 rows x 9 columns]"
            ]
          },
          "metadata": {
            "tags": []
          },
          "execution_count": 9
        }
      ]
    },
    {
      "cell_type": "code",
      "metadata": {
        "colab": {
          "base_uri": "https://localhost:8080/"
        },
        "id": "iWw2kYR0WHsU",
        "outputId": "5d76e076-4f0a-4caf-b668-949f3603d6c2"
      },
      "source": [
        "df.isnull().sum()"
      ],
      "execution_count": null,
      "outputs": [
        {
          "output_type": "execute_result",
          "data": {
            "text/plain": [
              "ID                     0\n",
              "STATE               1842\n",
              "AGE                    0\n",
              "OCCUPATION         42777\n",
              "INCOME_GROUP        3437\n",
              "CUSTOMER_SINCE         0\n",
              "LOYALTY_PROGRAM    17824\n",
              "PAST_PURCHASE          0\n",
              "PURCHASE               0\n",
              "dtype: int64"
            ]
          },
          "metadata": {
            "tags": []
          },
          "execution_count": 10
        }
      ]
    },
    {
      "cell_type": "code",
      "metadata": {
        "colab": {
          "base_uri": "https://localhost:8080/"
        },
        "id": "IeIVy2sdWHvu",
        "outputId": "2da9ea11-44ce-41a5-ff67-09e673c3e62b"
      },
      "source": [
        "df['STATE'].value_counts()"
      ],
      "execution_count": null,
      "outputs": [
        {
          "output_type": "execute_result",
          "data": {
            "text/plain": [
              "Maharashtra                    21968\n",
              "Tamil Nadu                     17836\n",
              "Uttar Pradesh                  16400\n",
              "Karnataka                      11689\n",
              "Gujarat                         7864\n",
              "West Bengal                     7751\n",
              "Telangana                       4783\n",
              "Andhra Pradesh                  4781\n",
              "Rajasthan                       4621\n",
              "Kerala                          3718\n",
              "Madhya Pradesh                  3680\n",
              "Delhi                           3572\n",
              "Bihar                           3225\n",
              "Haryana                         3197\n",
              "Punjab                          3113\n",
              "Odisha                          2773\n",
              "Assam                           2638\n",
              "Chhattisgarh                    2366\n",
              "Jharkhand                       2242\n",
              "Uttarakhand                     1984\n",
              "Jammu and Kashmir               1962\n",
              "Himachal Pradesh                1763\n",
              "Goa                             1735\n",
              "Tripura                         1735\n",
              "Chandigarh                      1583\n",
              "Puducherry                      1503\n",
              "Meghalaya                       1231\n",
              "Sikkim                          1200\n",
              "Nagaland                        1133\n",
              "Manipur                         1108\n",
              "Arunachal Pradesh               1065\n",
              "Mizoram                          984\n",
              "Andaman and Nicobar Islands      955\n",
              "Name: STATE, dtype: int64"
            ]
          },
          "metadata": {
            "tags": []
          },
          "execution_count": 11
        }
      ]
    },
    {
      "cell_type": "code",
      "metadata": {
        "colab": {
          "base_uri": "https://localhost:8080/"
        },
        "id": "av4SiClWjyIZ",
        "outputId": "64b31394-f207-498e-fe12-69ce75fd72d2"
      },
      "source": [
        "df['OCCUPATION'].value_counts()"
      ],
      "execution_count": null,
      "outputs": [
        {
          "output_type": "execute_result",
          "data": {
            "text/plain": [
              "Self employed    61375\n",
              "Salaried         44214\n",
              "Business          1634\n",
              "Name: OCCUPATION, dtype: int64"
            ]
          },
          "metadata": {
            "tags": []
          },
          "execution_count": 12
        }
      ]
    },
    {
      "cell_type": "code",
      "metadata": {
        "colab": {
          "base_uri": "https://localhost:8080/"
        },
        "id": "E3weAgDIjyVF",
        "outputId": "b0108f51-5155-46fe-b380-4446566beddf"
      },
      "source": [
        "df['INCOME_GROUP'].value_counts()"
      ],
      "execution_count": null,
      "outputs": [
        {
          "output_type": "execute_result",
          "data": {
            "text/plain": [
              "Low       63523\n",
              "High      41808\n",
              "Medium    41232\n",
              "Name: INCOME_GROUP, dtype: int64"
            ]
          },
          "metadata": {
            "tags": []
          },
          "execution_count": 13
        }
      ]
    },
    {
      "cell_type": "code",
      "metadata": {
        "colab": {
          "base_uri": "https://localhost:8080/"
        },
        "id": "KlnZI6Pcjyii",
        "outputId": "a1c06b27-0227-41c7-c2ef-93c1bc5e2eaa"
      },
      "source": [
        "df['LOYALTY_PROGRAM'].value_counts()"
      ],
      "execution_count": null,
      "outputs": [
        {
          "output_type": "execute_result",
          "data": {
            "text/plain": [
              "No     88182\n",
              "Yes    43994\n",
              "Name: LOYALTY_PROGRAM, dtype: int64"
            ]
          },
          "metadata": {
            "tags": []
          },
          "execution_count": 14
        }
      ]
    },
    {
      "cell_type": "code",
      "metadata": {
        "id": "2VDMeVNNmaCj"
      },
      "source": [
        "# Thus its clear that we can't replace missing values of categorical dataset using most recurring values "
      ],
      "execution_count": null,
      "outputs": []
    },
    {
      "cell_type": "code",
      "metadata": {
        "colab": {
          "base_uri": "https://localhost:8080/",
          "height": 106
        },
        "id": "7cFIU-Owm3LG",
        "outputId": "ad17fe6d-31b6-4db4-aa4b-c13317d3f636"
      },
      "source": [
        "df = df.drop('ID',axis=1)\n",
        "df.head(2)"
      ],
      "execution_count": null,
      "outputs": [
        {
          "output_type": "execute_result",
          "data": {
            "text/html": [
              "<div>\n",
              "<style scoped>\n",
              "    .dataframe tbody tr th:only-of-type {\n",
              "        vertical-align: middle;\n",
              "    }\n",
              "\n",
              "    .dataframe tbody tr th {\n",
              "        vertical-align: top;\n",
              "    }\n",
              "\n",
              "    .dataframe thead th {\n",
              "        text-align: right;\n",
              "    }\n",
              "</style>\n",
              "<table border=\"1\" class=\"dataframe\">\n",
              "  <thead>\n",
              "    <tr style=\"text-align: right;\">\n",
              "      <th></th>\n",
              "      <th>STATE</th>\n",
              "      <th>AGE</th>\n",
              "      <th>OCCUPATION</th>\n",
              "      <th>INCOME_GROUP</th>\n",
              "      <th>CUSTOMER_SINCE</th>\n",
              "      <th>LOYALTY_PROGRAM</th>\n",
              "      <th>PAST_PURCHASE</th>\n",
              "      <th>PURCHASE</th>\n",
              "    </tr>\n",
              "  </thead>\n",
              "  <tbody>\n",
              "    <tr>\n",
              "      <th>0</th>\n",
              "      <td>Uttar Pradesh</td>\n",
              "      <td>28</td>\n",
              "      <td>NaN</td>\n",
              "      <td>Low</td>\n",
              "      <td>2018</td>\n",
              "      <td>No</td>\n",
              "      <td>4937</td>\n",
              "      <td>No</td>\n",
              "    </tr>\n",
              "    <tr>\n",
              "      <th>1</th>\n",
              "      <td>Madhya Pradesh</td>\n",
              "      <td>27</td>\n",
              "      <td>Salaried</td>\n",
              "      <td>Low</td>\n",
              "      <td>2018</td>\n",
              "      <td>No</td>\n",
              "      <td>10834</td>\n",
              "      <td>No</td>\n",
              "    </tr>\n",
              "  </tbody>\n",
              "</table>\n",
              "</div>"
            ],
            "text/plain": [
              "            STATE  AGE OCCUPATION  ... LOYALTY_PROGRAM  PAST_PURCHASE PURCHASE\n",
              "0   Uttar Pradesh   28        NaN  ...              No           4937       No\n",
              "1  Madhya Pradesh   27   Salaried  ...              No          10834       No\n",
              "\n",
              "[2 rows x 8 columns]"
            ]
          },
          "metadata": {
            "tags": []
          },
          "execution_count": 16
        }
      ]
    },
    {
      "cell_type": "code",
      "metadata": {
        "colab": {
          "base_uri": "https://localhost:8080/"
        },
        "id": "f_L2uXdglRRd",
        "outputId": "31e6e0db-7759-4ac5-a278-0505191ea2e9"
      },
      "source": [
        "df.columns"
      ],
      "execution_count": null,
      "outputs": [
        {
          "output_type": "execute_result",
          "data": {
            "text/plain": [
              "Index(['STATE', 'AGE', 'OCCUPATION', 'INCOME_GROUP', 'CUSTOMER_SINCE',\n",
              "       'LOYALTY_PROGRAM', 'PAST_PURCHASE', 'PURCHASE'],\n",
              "      dtype='object')"
            ]
          },
          "metadata": {
            "tags": []
          },
          "execution_count": 17
        }
      ]
    },
    {
      "cell_type": "code",
      "metadata": {
        "colab": {
          "base_uri": "https://localhost:8080/"
        },
        "id": "VQ8sKrX8akT5",
        "outputId": "c957c92a-ca79-4d97-d3c5-eec9b7650c4a"
      },
      "source": [
        "print('STATE:',df['STATE'].unique())\n",
        "print('OCCUPATION',df['OCCUPATION'].unique())\n",
        "print('INCOME_GROUP:',df['INCOME_GROUP'].unique())\n",
        "print('LOYALTY_PROGRAM:',df['LOYALTY_PROGRAM'].unique())"
      ],
      "execution_count": null,
      "outputs": [
        {
          "output_type": "stream",
          "text": [
            "STATE: ['Uttar Pradesh' 'Madhya Pradesh' 'West Bengal' 'Tamil Nadu' 'Maharashtra'\n",
            " 'Kerala' 'Goa' 'Karnataka' 'Andhra Pradesh' 'Telangana' 'Chandigarh'\n",
            " 'Nagaland' 'Andaman and Nicobar Islands' 'Tripura' 'Delhi'\n",
            " 'Himachal Pradesh' nan 'Puducherry' 'Sikkim' 'Gujarat' 'Odisha' 'Bihar'\n",
            " 'Punjab' 'Arunachal Pradesh' 'Haryana' 'Rajasthan' 'Uttarakhand'\n",
            " 'Jammu and Kashmir' 'Assam' 'Manipur' 'Mizoram' 'Jharkhand'\n",
            " 'Chhattisgarh' 'Meghalaya']\n",
            "OCCUPATION [nan 'Salaried' 'Self employed' 'Business']\n",
            "INCOME_GROUP: ['Low' 'High' 'Medium' nan]\n",
            "LOYALTY_PROGRAM: ['No' nan 'Yes']\n"
          ],
          "name": "stdout"
        }
      ]
    },
    {
      "cell_type": "code",
      "metadata": {
        "colab": {
          "base_uri": "https://localhost:8080/"
        },
        "id": "t54H-7h1akYJ",
        "outputId": "9e2bf7bc-773a-4971-9184-ae87bebe6ddf"
      },
      "source": [
        "df.isnull().sum()"
      ],
      "execution_count": null,
      "outputs": [
        {
          "output_type": "execute_result",
          "data": {
            "text/plain": [
              "STATE               1842\n",
              "AGE                    0\n",
              "OCCUPATION         42777\n",
              "INCOME_GROUP        3437\n",
              "CUSTOMER_SINCE         0\n",
              "LOYALTY_PROGRAM    17824\n",
              "PAST_PURCHASE          0\n",
              "PURCHASE               0\n",
              "dtype: int64"
            ]
          },
          "metadata": {
            "tags": []
          },
          "execution_count": 19
        }
      ]
    },
    {
      "cell_type": "code",
      "metadata": {
        "id": "qa-pM2QCIYYd"
      },
      "source": [
        "missing_data_train = ['STATE','OCCUPATION', 'INCOME_GROUP', 'LOYALTY_PROGRAM']"
      ],
      "execution_count": null,
      "outputs": []
    },
    {
      "cell_type": "code",
      "metadata": {
        "colab": {
          "base_uri": "https://localhost:8080/"
        },
        "id": "NHYtlgqlc82U",
        "outputId": "01d27862-7c99-4b48-cffc-cf9f96eed57e"
      },
      "source": [
        "df.isnull().sum()"
      ],
      "execution_count": null,
      "outputs": [
        {
          "output_type": "execute_result",
          "data": {
            "text/plain": [
              "STATE               1842\n",
              "AGE                    0\n",
              "OCCUPATION         42777\n",
              "INCOME_GROUP        3437\n",
              "CUSTOMER_SINCE         0\n",
              "LOYALTY_PROGRAM    17824\n",
              "PAST_PURCHASE          0\n",
              "PURCHASE               0\n",
              "dtype: int64"
            ]
          },
          "metadata": {
            "tags": []
          },
          "execution_count": 21
        }
      ]
    },
    {
      "cell_type": "code",
      "metadata": {
        "colab": {
          "base_uri": "https://localhost:8080/"
        },
        "id": "4Ig1WjcVeCFP",
        "outputId": "775fbdf1-ca60-4aaa-96a3-904dd67c5179"
      },
      "source": [
        "print('OCCUPATION',df['OCCUPATION'].unique())\n",
        "print('LOYALTY_PROGRAM:',df['LOYALTY_PROGRAM'].unique())"
      ],
      "execution_count": null,
      "outputs": [
        {
          "output_type": "stream",
          "text": [
            "OCCUPATION [nan 'Salaried' 'Self employed' 'Business']\n",
            "LOYALTY_PROGRAM: ['No' nan 'Yes']\n"
          ],
          "name": "stdout"
        }
      ]
    },
    {
      "cell_type": "code",
      "metadata": {
        "colab": {
          "base_uri": "https://localhost:8080/"
        },
        "id": "i49SZDvWeNOr",
        "outputId": "78e5d2e9-4247-4b26-edd8-aec686e644e0"
      },
      "source": [
        "df['OCCUPATION'] = df['OCCUPATION'].map({'Salaried':0,'Self employed':1, 'Business':2})\n",
        "print('OCCUPATION',df['OCCUPATION'].unique())"
      ],
      "execution_count": null,
      "outputs": [
        {
          "output_type": "stream",
          "text": [
            "OCCUPATION [nan  0.  1.  2.]\n"
          ],
          "name": "stdout"
        }
      ]
    },
    {
      "cell_type": "code",
      "metadata": {
        "colab": {
          "base_uri": "https://localhost:8080/"
        },
        "id": "Fze_TQePeCIW",
        "outputId": "a0d62ea2-43fb-4ab8-e90c-a364d00c3641"
      },
      "source": [
        "df['LOYALTY_PROGRAM'] = df['LOYALTY_PROGRAM'].map({'No':0,'Yes':1})\n",
        "print('LOYALTY_PROGRAM:',df['LOYALTY_PROGRAM'].unique())"
      ],
      "execution_count": null,
      "outputs": [
        {
          "output_type": "stream",
          "text": [
            "LOYALTY_PROGRAM: [ 0. nan  1.]\n"
          ],
          "name": "stdout"
        }
      ]
    },
    {
      "cell_type": "code",
      "metadata": {
        "id": "HCmxkVlrjGtZ"
      },
      "source": [
        "df['PURCHASE'] = df['PURCHASE'].map({'No':0,'Yes':1})"
      ],
      "execution_count": null,
      "outputs": []
    },
    {
      "cell_type": "code",
      "metadata": {
        "colab": {
          "base_uri": "https://localhost:8080/"
        },
        "id": "QmYpGz0mk457",
        "outputId": "256f4cb5-ef80-4335-9f04-cfce05ca8c0a"
      },
      "source": [
        "print('STATE:',df['STATE'].unique())"
      ],
      "execution_count": null,
      "outputs": [
        {
          "output_type": "stream",
          "text": [
            "STATE: ['Uttar Pradesh' 'Madhya Pradesh' 'West Bengal' 'Tamil Nadu' 'Maharashtra'\n",
            " 'Kerala' 'Goa' 'Karnataka' 'Andhra Pradesh' 'Telangana' 'Chandigarh'\n",
            " 'Nagaland' 'Andaman and Nicobar Islands' 'Tripura' 'Delhi'\n",
            " 'Himachal Pradesh' nan 'Puducherry' 'Sikkim' 'Gujarat' 'Odisha' 'Bihar'\n",
            " 'Punjab' 'Arunachal Pradesh' 'Haryana' 'Rajasthan' 'Uttarakhand'\n",
            " 'Jammu and Kashmir' 'Assam' 'Manipur' 'Mizoram' 'Jharkhand'\n",
            " 'Chhattisgarh' 'Meghalaya']\n"
          ],
          "name": "stdout"
        }
      ]
    },
    {
      "cell_type": "code",
      "metadata": {
        "colab": {
          "base_uri": "https://localhost:8080/"
        },
        "id": "OWPEPO_bk49q",
        "outputId": "aaaebd4e-845a-409d-b9ae-660f9961bf35"
      },
      "source": [
        "df['STATE'] = df['STATE'].map({'Uttar Pradesh':0, 'Madhya Pradesh':1, 'West Bengal':2, 'Tamil Nadu':3, 'Maharashtra':4,\n",
        " 'Kerala':5, 'Goa':6, 'Karnataka':7, 'Andhra Pradesh':8, 'Chandigarh':9, 'Nagaland':10,\n",
        " 'Andaman and Nicobar Islands':11, 'Tripura':12, 'Delhi':13, 'Himachal Pradesh':14,\n",
        " 'Puducherry':15, 'Sikkim':16, 'Gujarat':17, 'Odisha':18, 'Bihar':19, 'Telangana':20, 'Punjab':21,\n",
        " 'Arunachal Pradesh':22, 'Haryana':23, 'Rajasthan':24, 'Uttarakhand':25,\n",
        " 'Jammu and Kashmir':26, 'Assam':27, 'Manipur':28, 'Mizoram':29, 'Jharkhand':30,\n",
        " 'Chhattisgarh':31, 'Meghalaya':32})\n",
        "print('STATE:',df['STATE'].unique())"
      ],
      "execution_count": null,
      "outputs": [
        {
          "output_type": "stream",
          "text": [
            "STATE: [ 0.  1.  2.  3.  4.  5.  6.  7.  8. 20.  9. 10. 11. 12. 13. 14. nan 15.\n",
            " 16. 17. 18. 19. 21. 22. 23. 24. 25. 26. 27. 28. 29. 30. 31. 32.]\n"
          ],
          "name": "stdout"
        }
      ]
    },
    {
      "cell_type": "code",
      "metadata": {
        "colab": {
          "base_uri": "https://localhost:8080/"
        },
        "id": "jAiOFNiZk5BF",
        "outputId": "15ffe6ee-bffd-4645-aeb1-a5f032b01b42"
      },
      "source": [
        "print('INCOME_GROUP:',df['INCOME_GROUP'].unique())"
      ],
      "execution_count": null,
      "outputs": [
        {
          "output_type": "stream",
          "text": [
            "INCOME_GROUP: ['Low' 'High' 'Medium' nan]\n"
          ],
          "name": "stdout"
        }
      ]
    },
    {
      "cell_type": "code",
      "metadata": {
        "colab": {
          "base_uri": "https://localhost:8080/"
        },
        "id": "m9gDmoQimkyt",
        "outputId": "8fd860c0-f473-4609-a656-338abd3681a8"
      },
      "source": [
        "df['INCOME_GROUP'] = df['INCOME_GROUP'].map({'Low':0,'High':1, 'Medium':2})\n",
        "print('INCOME_GROUP:',df['INCOME_GROUP'].unique())"
      ],
      "execution_count": null,
      "outputs": [
        {
          "output_type": "stream",
          "text": [
            "INCOME_GROUP: [ 0.  1.  2. nan]\n"
          ],
          "name": "stdout"
        }
      ]
    },
    {
      "cell_type": "code",
      "metadata": {
        "colab": {
          "base_uri": "https://localhost:8080/",
          "height": 491
        },
        "id": "ZbaQkecOnNud",
        "outputId": "a687925d-5b78-4f4e-b981-a5111fc5b83f"
      },
      "source": [
        "df.head(15)"
      ],
      "execution_count": null,
      "outputs": [
        {
          "output_type": "execute_result",
          "data": {
            "text/html": [
              "<div>\n",
              "<style scoped>\n",
              "    .dataframe tbody tr th:only-of-type {\n",
              "        vertical-align: middle;\n",
              "    }\n",
              "\n",
              "    .dataframe tbody tr th {\n",
              "        vertical-align: top;\n",
              "    }\n",
              "\n",
              "    .dataframe thead th {\n",
              "        text-align: right;\n",
              "    }\n",
              "</style>\n",
              "<table border=\"1\" class=\"dataframe\">\n",
              "  <thead>\n",
              "    <tr style=\"text-align: right;\">\n",
              "      <th></th>\n",
              "      <th>STATE</th>\n",
              "      <th>AGE</th>\n",
              "      <th>OCCUPATION</th>\n",
              "      <th>INCOME_GROUP</th>\n",
              "      <th>CUSTOMER_SINCE</th>\n",
              "      <th>LOYALTY_PROGRAM</th>\n",
              "      <th>PAST_PURCHASE</th>\n",
              "      <th>PURCHASE</th>\n",
              "    </tr>\n",
              "  </thead>\n",
              "  <tbody>\n",
              "    <tr>\n",
              "      <th>0</th>\n",
              "      <td>0.0</td>\n",
              "      <td>28</td>\n",
              "      <td>NaN</td>\n",
              "      <td>0.0</td>\n",
              "      <td>2018</td>\n",
              "      <td>0.0</td>\n",
              "      <td>4937</td>\n",
              "      <td>0</td>\n",
              "    </tr>\n",
              "    <tr>\n",
              "      <th>1</th>\n",
              "      <td>1.0</td>\n",
              "      <td>27</td>\n",
              "      <td>0.0</td>\n",
              "      <td>0.0</td>\n",
              "      <td>2018</td>\n",
              "      <td>0.0</td>\n",
              "      <td>10834</td>\n",
              "      <td>0</td>\n",
              "    </tr>\n",
              "    <tr>\n",
              "      <th>2</th>\n",
              "      <td>2.0</td>\n",
              "      <td>62</td>\n",
              "      <td>NaN</td>\n",
              "      <td>1.0</td>\n",
              "      <td>2013</td>\n",
              "      <td>NaN</td>\n",
              "      <td>8610</td>\n",
              "      <td>1</td>\n",
              "    </tr>\n",
              "    <tr>\n",
              "      <th>3</th>\n",
              "      <td>3.0</td>\n",
              "      <td>27</td>\n",
              "      <td>0.0</td>\n",
              "      <td>0.0</td>\n",
              "      <td>2018</td>\n",
              "      <td>0.0</td>\n",
              "      <td>14374</td>\n",
              "      <td>1</td>\n",
              "    </tr>\n",
              "    <tr>\n",
              "      <th>4</th>\n",
              "      <td>0.0</td>\n",
              "      <td>40</td>\n",
              "      <td>1.0</td>\n",
              "      <td>1.0</td>\n",
              "      <td>2015</td>\n",
              "      <td>0.0</td>\n",
              "      <td>13158</td>\n",
              "      <td>0</td>\n",
              "    </tr>\n",
              "    <tr>\n",
              "      <th>5</th>\n",
              "      <td>4.0</td>\n",
              "      <td>28</td>\n",
              "      <td>0.0</td>\n",
              "      <td>0.0</td>\n",
              "      <td>2018</td>\n",
              "      <td>0.0</td>\n",
              "      <td>5159</td>\n",
              "      <td>0</td>\n",
              "    </tr>\n",
              "    <tr>\n",
              "      <th>6</th>\n",
              "      <td>3.0</td>\n",
              "      <td>68</td>\n",
              "      <td>NaN</td>\n",
              "      <td>1.0</td>\n",
              "      <td>2010</td>\n",
              "      <td>NaN</td>\n",
              "      <td>12780</td>\n",
              "      <td>1</td>\n",
              "    </tr>\n",
              "    <tr>\n",
              "      <th>7</th>\n",
              "      <td>4.0</td>\n",
              "      <td>45</td>\n",
              "      <td>1.0</td>\n",
              "      <td>2.0</td>\n",
              "      <td>2018</td>\n",
              "      <td>0.0</td>\n",
              "      <td>5018</td>\n",
              "      <td>0</td>\n",
              "    </tr>\n",
              "    <tr>\n",
              "      <th>8</th>\n",
              "      <td>2.0</td>\n",
              "      <td>56</td>\n",
              "      <td>1.0</td>\n",
              "      <td>2.0</td>\n",
              "      <td>2014</td>\n",
              "      <td>1.0</td>\n",
              "      <td>7238</td>\n",
              "      <td>0</td>\n",
              "    </tr>\n",
              "    <tr>\n",
              "      <th>9</th>\n",
              "      <td>3.0</td>\n",
              "      <td>67</td>\n",
              "      <td>NaN</td>\n",
              "      <td>1.0</td>\n",
              "      <td>2010</td>\n",
              "      <td>1.0</td>\n",
              "      <td>25120</td>\n",
              "      <td>1</td>\n",
              "    </tr>\n",
              "    <tr>\n",
              "      <th>10</th>\n",
              "      <td>0.0</td>\n",
              "      <td>37</td>\n",
              "      <td>1.0</td>\n",
              "      <td>NaN</td>\n",
              "      <td>2019</td>\n",
              "      <td>1.0</td>\n",
              "      <td>6602</td>\n",
              "      <td>0</td>\n",
              "    </tr>\n",
              "    <tr>\n",
              "      <th>11</th>\n",
              "      <td>3.0</td>\n",
              "      <td>26</td>\n",
              "      <td>0.0</td>\n",
              "      <td>0.0</td>\n",
              "      <td>2018</td>\n",
              "      <td>1.0</td>\n",
              "      <td>7529</td>\n",
              "      <td>1</td>\n",
              "    </tr>\n",
              "    <tr>\n",
              "      <th>12</th>\n",
              "      <td>5.0</td>\n",
              "      <td>31</td>\n",
              "      <td>NaN</td>\n",
              "      <td>0.0</td>\n",
              "      <td>2017</td>\n",
              "      <td>0.0</td>\n",
              "      <td>3853</td>\n",
              "      <td>0</td>\n",
              "    </tr>\n",
              "    <tr>\n",
              "      <th>13</th>\n",
              "      <td>6.0</td>\n",
              "      <td>37</td>\n",
              "      <td>0.0</td>\n",
              "      <td>0.0</td>\n",
              "      <td>2017</td>\n",
              "      <td>0.0</td>\n",
              "      <td>7477</td>\n",
              "      <td>0</td>\n",
              "    </tr>\n",
              "    <tr>\n",
              "      <th>14</th>\n",
              "      <td>7.0</td>\n",
              "      <td>52</td>\n",
              "      <td>1.0</td>\n",
              "      <td>1.0</td>\n",
              "      <td>2010</td>\n",
              "      <td>0.0</td>\n",
              "      <td>8604</td>\n",
              "      <td>0</td>\n",
              "    </tr>\n",
              "  </tbody>\n",
              "</table>\n",
              "</div>"
            ],
            "text/plain": [
              "    STATE  AGE  OCCUPATION  ...  LOYALTY_PROGRAM  PAST_PURCHASE  PURCHASE\n",
              "0     0.0   28         NaN  ...              0.0           4937         0\n",
              "1     1.0   27         0.0  ...              0.0          10834         0\n",
              "2     2.0   62         NaN  ...              NaN           8610         1\n",
              "3     3.0   27         0.0  ...              0.0          14374         1\n",
              "4     0.0   40         1.0  ...              0.0          13158         0\n",
              "5     4.0   28         0.0  ...              0.0           5159         0\n",
              "6     3.0   68         NaN  ...              NaN          12780         1\n",
              "7     4.0   45         1.0  ...              0.0           5018         0\n",
              "8     2.0   56         1.0  ...              1.0           7238         0\n",
              "9     3.0   67         NaN  ...              1.0          25120         1\n",
              "10    0.0   37         1.0  ...              1.0           6602         0\n",
              "11    3.0   26         0.0  ...              1.0           7529         1\n",
              "12    5.0   31         NaN  ...              0.0           3853         0\n",
              "13    6.0   37         0.0  ...              0.0           7477         0\n",
              "14    7.0   52         1.0  ...              0.0           8604         0\n",
              "\n",
              "[15 rows x 8 columns]"
            ]
          },
          "metadata": {
            "tags": []
          },
          "execution_count": 30
        }
      ]
    },
    {
      "cell_type": "code",
      "metadata": {
        "colab": {
          "base_uri": "https://localhost:8080/"
        },
        "id": "MRXQ6OAdqEQ_",
        "outputId": "ff14201f-793d-493b-a6d5-92763afb8f27"
      },
      "source": [
        "df.isnull().sum()"
      ],
      "execution_count": null,
      "outputs": [
        {
          "output_type": "execute_result",
          "data": {
            "text/plain": [
              "STATE               1842\n",
              "AGE                    0\n",
              "OCCUPATION         42777\n",
              "INCOME_GROUP        3437\n",
              "CUSTOMER_SINCE         0\n",
              "LOYALTY_PROGRAM    17824\n",
              "PAST_PURCHASE          0\n",
              "PURCHASE               0\n",
              "dtype: int64"
            ]
          },
          "metadata": {
            "tags": []
          },
          "execution_count": 31
        }
      ]
    },
    {
      "cell_type": "code",
      "metadata": {
        "id": "DPmLziXByd6h"
      },
      "source": [
        "df1 = df.copy()"
      ],
      "execution_count": null,
      "outputs": []
    },
    {
      "cell_type": "code",
      "metadata": {
        "colab": {
          "base_uri": "https://localhost:8080/"
        },
        "id": "x6dY3IOzyeDX",
        "outputId": "d68f75d4-7fc2-4177-9729-1cd415844349"
      },
      "source": [
        "df1[missing_data_train].isnull().sum()"
      ],
      "execution_count": null,
      "outputs": [
        {
          "output_type": "execute_result",
          "data": {
            "text/plain": [
              "STATE               1842\n",
              "OCCUPATION         42777\n",
              "INCOME_GROUP        3437\n",
              "LOYALTY_PROGRAM    17824\n",
              "dtype: int64"
            ]
          },
          "metadata": {
            "tags": []
          },
          "execution_count": 33
        }
      ]
    },
    {
      "cell_type": "code",
      "metadata": {
        "id": "UkXOFunLyeIe"
      },
      "source": [
        "from sklearn.impute import KNNImputer\n",
        "knn_imp = KNNImputer(n_neighbors=5)"
      ],
      "execution_count": null,
      "outputs": []
    },
    {
      "cell_type": "code",
      "metadata": {
        "id": "AtqT8yIIyeMr"
      },
      "source": [
        "df1[missing_data_train] = knn_imp.fit_transform(df1[missing_data_train])"
      ],
      "execution_count": null,
      "outputs": []
    },
    {
      "cell_type": "code",
      "metadata": {
        "colab": {
          "base_uri": "https://localhost:8080/"
        },
        "id": "Vlg99DZfyeRJ",
        "outputId": "ecd93f6f-315f-402d-c38f-18a6781ae010"
      },
      "source": [
        "df1[missing_data_train].isnull().sum()"
      ],
      "execution_count": null,
      "outputs": [
        {
          "output_type": "execute_result",
          "data": {
            "text/plain": [
              "STATE              0\n",
              "OCCUPATION         0\n",
              "INCOME_GROUP       0\n",
              "LOYALTY_PROGRAM    0\n",
              "dtype: int64"
            ]
          },
          "metadata": {
            "tags": []
          },
          "execution_count": 36
        }
      ]
    },
    {
      "cell_type": "code",
      "metadata": {
        "colab": {
          "base_uri": "https://localhost:8080/",
          "height": 491
        },
        "id": "-wiBe3I-yeTw",
        "outputId": "851bc287-92e4-42cf-cd6c-7e044dd8f53e"
      },
      "source": [
        "df = df1.copy()\n",
        "df.head(15)"
      ],
      "execution_count": null,
      "outputs": [
        {
          "output_type": "execute_result",
          "data": {
            "text/html": [
              "<div>\n",
              "<style scoped>\n",
              "    .dataframe tbody tr th:only-of-type {\n",
              "        vertical-align: middle;\n",
              "    }\n",
              "\n",
              "    .dataframe tbody tr th {\n",
              "        vertical-align: top;\n",
              "    }\n",
              "\n",
              "    .dataframe thead th {\n",
              "        text-align: right;\n",
              "    }\n",
              "</style>\n",
              "<table border=\"1\" class=\"dataframe\">\n",
              "  <thead>\n",
              "    <tr style=\"text-align: right;\">\n",
              "      <th></th>\n",
              "      <th>STATE</th>\n",
              "      <th>AGE</th>\n",
              "      <th>OCCUPATION</th>\n",
              "      <th>INCOME_GROUP</th>\n",
              "      <th>CUSTOMER_SINCE</th>\n",
              "      <th>LOYALTY_PROGRAM</th>\n",
              "      <th>PAST_PURCHASE</th>\n",
              "      <th>PURCHASE</th>\n",
              "    </tr>\n",
              "  </thead>\n",
              "  <tbody>\n",
              "    <tr>\n",
              "      <th>0</th>\n",
              "      <td>0.0</td>\n",
              "      <td>28</td>\n",
              "      <td>0.2</td>\n",
              "      <td>0.0</td>\n",
              "      <td>2018</td>\n",
              "      <td>0.0</td>\n",
              "      <td>4937</td>\n",
              "      <td>0</td>\n",
              "    </tr>\n",
              "    <tr>\n",
              "      <th>1</th>\n",
              "      <td>1.0</td>\n",
              "      <td>27</td>\n",
              "      <td>0.0</td>\n",
              "      <td>0.0</td>\n",
              "      <td>2018</td>\n",
              "      <td>0.0</td>\n",
              "      <td>10834</td>\n",
              "      <td>0</td>\n",
              "    </tr>\n",
              "    <tr>\n",
              "      <th>2</th>\n",
              "      <td>2.0</td>\n",
              "      <td>62</td>\n",
              "      <td>1.0</td>\n",
              "      <td>1.0</td>\n",
              "      <td>2013</td>\n",
              "      <td>0.2</td>\n",
              "      <td>8610</td>\n",
              "      <td>1</td>\n",
              "    </tr>\n",
              "    <tr>\n",
              "      <th>3</th>\n",
              "      <td>3.0</td>\n",
              "      <td>27</td>\n",
              "      <td>0.0</td>\n",
              "      <td>0.0</td>\n",
              "      <td>2018</td>\n",
              "      <td>0.0</td>\n",
              "      <td>14374</td>\n",
              "      <td>1</td>\n",
              "    </tr>\n",
              "    <tr>\n",
              "      <th>4</th>\n",
              "      <td>0.0</td>\n",
              "      <td>40</td>\n",
              "      <td>1.0</td>\n",
              "      <td>1.0</td>\n",
              "      <td>2015</td>\n",
              "      <td>0.0</td>\n",
              "      <td>13158</td>\n",
              "      <td>0</td>\n",
              "    </tr>\n",
              "    <tr>\n",
              "      <th>5</th>\n",
              "      <td>4.0</td>\n",
              "      <td>28</td>\n",
              "      <td>0.0</td>\n",
              "      <td>0.0</td>\n",
              "      <td>2018</td>\n",
              "      <td>0.0</td>\n",
              "      <td>5159</td>\n",
              "      <td>0</td>\n",
              "    </tr>\n",
              "    <tr>\n",
              "      <th>6</th>\n",
              "      <td>3.0</td>\n",
              "      <td>68</td>\n",
              "      <td>0.8</td>\n",
              "      <td>1.0</td>\n",
              "      <td>2010</td>\n",
              "      <td>0.4</td>\n",
              "      <td>12780</td>\n",
              "      <td>1</td>\n",
              "    </tr>\n",
              "    <tr>\n",
              "      <th>7</th>\n",
              "      <td>4.0</td>\n",
              "      <td>45</td>\n",
              "      <td>1.0</td>\n",
              "      <td>2.0</td>\n",
              "      <td>2018</td>\n",
              "      <td>0.0</td>\n",
              "      <td>5018</td>\n",
              "      <td>0</td>\n",
              "    </tr>\n",
              "    <tr>\n",
              "      <th>8</th>\n",
              "      <td>2.0</td>\n",
              "      <td>56</td>\n",
              "      <td>1.0</td>\n",
              "      <td>2.0</td>\n",
              "      <td>2014</td>\n",
              "      <td>1.0</td>\n",
              "      <td>7238</td>\n",
              "      <td>0</td>\n",
              "    </tr>\n",
              "    <tr>\n",
              "      <th>9</th>\n",
              "      <td>3.0</td>\n",
              "      <td>67</td>\n",
              "      <td>1.0</td>\n",
              "      <td>1.0</td>\n",
              "      <td>2010</td>\n",
              "      <td>1.0</td>\n",
              "      <td>25120</td>\n",
              "      <td>1</td>\n",
              "    </tr>\n",
              "    <tr>\n",
              "      <th>10</th>\n",
              "      <td>0.0</td>\n",
              "      <td>37</td>\n",
              "      <td>1.0</td>\n",
              "      <td>1.2</td>\n",
              "      <td>2019</td>\n",
              "      <td>1.0</td>\n",
              "      <td>6602</td>\n",
              "      <td>0</td>\n",
              "    </tr>\n",
              "    <tr>\n",
              "      <th>11</th>\n",
              "      <td>3.0</td>\n",
              "      <td>26</td>\n",
              "      <td>0.0</td>\n",
              "      <td>0.0</td>\n",
              "      <td>2018</td>\n",
              "      <td>1.0</td>\n",
              "      <td>7529</td>\n",
              "      <td>1</td>\n",
              "    </tr>\n",
              "    <tr>\n",
              "      <th>12</th>\n",
              "      <td>5.0</td>\n",
              "      <td>31</td>\n",
              "      <td>0.4</td>\n",
              "      <td>0.0</td>\n",
              "      <td>2017</td>\n",
              "      <td>0.0</td>\n",
              "      <td>3853</td>\n",
              "      <td>0</td>\n",
              "    </tr>\n",
              "    <tr>\n",
              "      <th>13</th>\n",
              "      <td>6.0</td>\n",
              "      <td>37</td>\n",
              "      <td>0.0</td>\n",
              "      <td>0.0</td>\n",
              "      <td>2017</td>\n",
              "      <td>0.0</td>\n",
              "      <td>7477</td>\n",
              "      <td>0</td>\n",
              "    </tr>\n",
              "    <tr>\n",
              "      <th>14</th>\n",
              "      <td>7.0</td>\n",
              "      <td>52</td>\n",
              "      <td>1.0</td>\n",
              "      <td>1.0</td>\n",
              "      <td>2010</td>\n",
              "      <td>0.0</td>\n",
              "      <td>8604</td>\n",
              "      <td>0</td>\n",
              "    </tr>\n",
              "  </tbody>\n",
              "</table>\n",
              "</div>"
            ],
            "text/plain": [
              "    STATE  AGE  OCCUPATION  ...  LOYALTY_PROGRAM  PAST_PURCHASE  PURCHASE\n",
              "0     0.0   28         0.2  ...              0.0           4937         0\n",
              "1     1.0   27         0.0  ...              0.0          10834         0\n",
              "2     2.0   62         1.0  ...              0.2           8610         1\n",
              "3     3.0   27         0.0  ...              0.0          14374         1\n",
              "4     0.0   40         1.0  ...              0.0          13158         0\n",
              "5     4.0   28         0.0  ...              0.0           5159         0\n",
              "6     3.0   68         0.8  ...              0.4          12780         1\n",
              "7     4.0   45         1.0  ...              0.0           5018         0\n",
              "8     2.0   56         1.0  ...              1.0           7238         0\n",
              "9     3.0   67         1.0  ...              1.0          25120         1\n",
              "10    0.0   37         1.0  ...              1.0           6602         0\n",
              "11    3.0   26         0.0  ...              1.0           7529         1\n",
              "12    5.0   31         0.4  ...              0.0           3853         0\n",
              "13    6.0   37         0.0  ...              0.0           7477         0\n",
              "14    7.0   52         1.0  ...              0.0           8604         0\n",
              "\n",
              "[15 rows x 8 columns]"
            ]
          },
          "metadata": {
            "tags": []
          },
          "execution_count": 37
        }
      ]
    },
    {
      "cell_type": "markdown",
      "metadata": {
        "id": "O1k-5c9786k8"
      },
      "source": [
        "# Building ML models"
      ]
    },
    {
      "cell_type": "code",
      "metadata": {
        "colab": {
          "base_uri": "https://localhost:8080/",
          "height": 195
        },
        "id": "gjwJebAyyeXS",
        "outputId": "4066fd2d-4eb0-4db9-862d-66f397b2173b"
      },
      "source": [
        "# Storing dependent variable in X.\n",
        "X = df.drop('PURCHASE',axis=1)\n",
        "X.head()"
      ],
      "execution_count": null,
      "outputs": [
        {
          "output_type": "execute_result",
          "data": {
            "text/html": [
              "<div>\n",
              "<style scoped>\n",
              "    .dataframe tbody tr th:only-of-type {\n",
              "        vertical-align: middle;\n",
              "    }\n",
              "\n",
              "    .dataframe tbody tr th {\n",
              "        vertical-align: top;\n",
              "    }\n",
              "\n",
              "    .dataframe thead th {\n",
              "        text-align: right;\n",
              "    }\n",
              "</style>\n",
              "<table border=\"1\" class=\"dataframe\">\n",
              "  <thead>\n",
              "    <tr style=\"text-align: right;\">\n",
              "      <th></th>\n",
              "      <th>STATE</th>\n",
              "      <th>AGE</th>\n",
              "      <th>OCCUPATION</th>\n",
              "      <th>INCOME_GROUP</th>\n",
              "      <th>CUSTOMER_SINCE</th>\n",
              "      <th>LOYALTY_PROGRAM</th>\n",
              "      <th>PAST_PURCHASE</th>\n",
              "    </tr>\n",
              "  </thead>\n",
              "  <tbody>\n",
              "    <tr>\n",
              "      <th>0</th>\n",
              "      <td>0.0</td>\n",
              "      <td>28</td>\n",
              "      <td>0.2</td>\n",
              "      <td>0.0</td>\n",
              "      <td>2018</td>\n",
              "      <td>0.0</td>\n",
              "      <td>4937</td>\n",
              "    </tr>\n",
              "    <tr>\n",
              "      <th>1</th>\n",
              "      <td>1.0</td>\n",
              "      <td>27</td>\n",
              "      <td>0.0</td>\n",
              "      <td>0.0</td>\n",
              "      <td>2018</td>\n",
              "      <td>0.0</td>\n",
              "      <td>10834</td>\n",
              "    </tr>\n",
              "    <tr>\n",
              "      <th>2</th>\n",
              "      <td>2.0</td>\n",
              "      <td>62</td>\n",
              "      <td>1.0</td>\n",
              "      <td>1.0</td>\n",
              "      <td>2013</td>\n",
              "      <td>0.2</td>\n",
              "      <td>8610</td>\n",
              "    </tr>\n",
              "    <tr>\n",
              "      <th>3</th>\n",
              "      <td>3.0</td>\n",
              "      <td>27</td>\n",
              "      <td>0.0</td>\n",
              "      <td>0.0</td>\n",
              "      <td>2018</td>\n",
              "      <td>0.0</td>\n",
              "      <td>14374</td>\n",
              "    </tr>\n",
              "    <tr>\n",
              "      <th>4</th>\n",
              "      <td>0.0</td>\n",
              "      <td>40</td>\n",
              "      <td>1.0</td>\n",
              "      <td>1.0</td>\n",
              "      <td>2015</td>\n",
              "      <td>0.0</td>\n",
              "      <td>13158</td>\n",
              "    </tr>\n",
              "  </tbody>\n",
              "</table>\n",
              "</div>"
            ],
            "text/plain": [
              "   STATE  AGE  OCCUPATION  ...  CUSTOMER_SINCE  LOYALTY_PROGRAM  PAST_PURCHASE\n",
              "0    0.0   28         0.2  ...            2018              0.0           4937\n",
              "1    1.0   27         0.0  ...            2018              0.0          10834\n",
              "2    2.0   62         1.0  ...            2013              0.2           8610\n",
              "3    3.0   27         0.0  ...            2018              0.0          14374\n",
              "4    0.0   40         1.0  ...            2015              0.0          13158\n",
              "\n",
              "[5 rows x 7 columns]"
            ]
          },
          "metadata": {
            "tags": []
          },
          "execution_count": 38
        }
      ]
    },
    {
      "cell_type": "code",
      "metadata": {
        "colab": {
          "base_uri": "https://localhost:8080/"
        },
        "id": "wWrD9Ms2yeaU",
        "outputId": "da46907b-41cb-466e-91d5-3589b7bbf015"
      },
      "source": [
        "# Storing dependent variable in y.\n",
        "y = df['PURCHASE']\n",
        "y.head()"
      ],
      "execution_count": null,
      "outputs": [
        {
          "output_type": "execute_result",
          "data": {
            "text/plain": [
              "0    0\n",
              "1    0\n",
              "2    1\n",
              "3    1\n",
              "4    0\n",
              "Name: PURCHASE, dtype: int64"
            ]
          },
          "metadata": {
            "tags": []
          },
          "execution_count": 39
        }
      ]
    },
    {
      "cell_type": "code",
      "metadata": {
        "id": "0cNcMokByeeA"
      },
      "source": [
        "from sklearn.model_selection import train_test_split\n",
        "X_train, X_test, y_train, y_test = train_test_split(X, y, test_size=0.3)"
      ],
      "execution_count": null,
      "outputs": []
    },
    {
      "cell_type": "code",
      "metadata": {
        "id": "LR4SvAaA-tF-"
      },
      "source": [
        "# Scaling the data such that it is centered around 0 (due to large difference in range in dataset).\n",
        "from sklearn.preprocessing import StandardScaler\n",
        "ss = StandardScaler()\n",
        "X_train = ss.fit_transform(X_train)\n",
        "X_test = ss.transform(X_test)"
      ],
      "execution_count": null,
      "outputs": []
    },
    {
      "cell_type": "markdown",
      "metadata": {
        "id": "HUmKzePI-I-E"
      },
      "source": [
        "## Logistic Regression"
      ]
    },
    {
      "cell_type": "code",
      "metadata": {
        "colab": {
          "base_uri": "https://localhost:8080/"
        },
        "id": "yo2Ib4Iz94G9",
        "outputId": "6fc1e8e6-0e38-48b9-d7f7-d31fbca5cdc1"
      },
      "source": [
        "from sklearn.linear_model import LogisticRegression\n",
        "# Creating logistic regression object to train the model.\n",
        "lr = LogisticRegression()\n",
        "# Training the dataset.\n",
        "lr.fit(X_train, y_train)\n",
        "# Predicting the value based on trained model.\n",
        "y_pred_lr = lr.predict(X_test)\n",
        "from sklearn.metrics import accuracy_score\n",
        "accuracy_lr = accuracy_score(y_test, y_pred_lr)\n",
        "print('Logistic regression has accuracy of:',accuracy_lr)"
      ],
      "execution_count": null,
      "outputs": [
        {
          "output_type": "stream",
          "text": [
            "Logistic regression has accuracy of: 0.7601777777777777\n"
          ],
          "name": "stdout"
        }
      ]
    },
    {
      "cell_type": "markdown",
      "metadata": {
        "id": "8YMuFCVM-ybj"
      },
      "source": [
        "## Random Forest Classifier"
      ]
    },
    {
      "cell_type": "code",
      "metadata": {
        "colab": {
          "base_uri": "https://localhost:8080/"
        },
        "id": "eWKxjs0294Lm",
        "outputId": "ce835fc1-5500-46b8-9502-a23fec7241a1"
      },
      "source": [
        "from sklearn.ensemble import RandomForestClassifier\n",
        "rfc = RandomForestClassifier()\n",
        "# Studying the dataset and training the ML model.\n",
        "rfc.fit(X_train, y_train)\n",
        "# Predicting the outcome based on the trained model.\n",
        "y_pred_rfc = rfc.predict(X_test)\n",
        "from sklearn.metrics import accuracy_score\n",
        "accuracy_rfc = accuracy_score(y_test, y_pred_rfc)\n",
        "print('Random Forest Classifier has accuracy of:',accuracy_rfc)"
      ],
      "execution_count": null,
      "outputs": [
        {
          "output_type": "stream",
          "text": [
            "Random Forest Classifier has accuracy of: 0.8351555555555555\n"
          ],
          "name": "stdout"
        }
      ]
    },
    {
      "cell_type": "markdown",
      "metadata": {
        "id": "oithdhuG_LVm"
      },
      "source": [
        "## Decision Tree Classifier"
      ]
    },
    {
      "cell_type": "code",
      "metadata": {
        "colab": {
          "base_uri": "https://localhost:8080/"
        },
        "id": "PwxHvP2S94QH",
        "outputId": "766904de-14fd-4ef8-98eb-c5f1d69725d8"
      },
      "source": [
        "from sklearn.tree import DecisionTreeClassifier\n",
        "dtc = DecisionTreeClassifier()\n",
        "# Studying the dataset and training the ML model.\n",
        "dtc.fit(X_train, y_train)\n",
        "# Predicting the outcome based on the trained model.\n",
        "y_pred_dtc = dtc.predict(X_test)\n",
        "accuracy_dtc = accuracy_score(y_test, y_pred_dtc)\n",
        "print('Decision Tree Classifier has accuracy of:',accuracy_dtc)"
      ],
      "execution_count": null,
      "outputs": [
        {
          "output_type": "stream",
          "text": [
            "Decision Tree Classifier has accuracy of: 0.7794\n"
          ],
          "name": "stdout"
        }
      ]
    },
    {
      "cell_type": "markdown",
      "metadata": {
        "id": "-9pDIgeg_Wno"
      },
      "source": [
        "# As Random forest Classifier has the highest accuracy of around 83 %. Thus we'll use it to built to train and built the the ML Model."
      ]
    },
    {
      "cell_type": "markdown",
      "metadata": {
        "id": "rEN6o1pbAM6r"
      },
      "source": [
        "## Performing data cleaning on the Test Data."
      ]
    },
    {
      "cell_type": "code",
      "metadata": {
        "id": "WV6fPwt894Xn"
      },
      "source": [
        "df_test = pd.read_csv('/content/drive/MyDrive/pidilite ds intern/test.csv')"
      ],
      "execution_count": null,
      "outputs": []
    },
    {
      "cell_type": "code",
      "metadata": {
        "colab": {
          "base_uri": "https://localhost:8080/",
          "height": 491
        },
        "id": "qhFX8YX294a_",
        "outputId": "0a45354e-c562-4524-9a4b-6d540d81997b"
      },
      "source": [
        "df_test.head(15)"
      ],
      "execution_count": null,
      "outputs": [
        {
          "output_type": "execute_result",
          "data": {
            "text/html": [
              "<div>\n",
              "<style scoped>\n",
              "    .dataframe tbody tr th:only-of-type {\n",
              "        vertical-align: middle;\n",
              "    }\n",
              "\n",
              "    .dataframe tbody tr th {\n",
              "        vertical-align: top;\n",
              "    }\n",
              "\n",
              "    .dataframe thead th {\n",
              "        text-align: right;\n",
              "    }\n",
              "</style>\n",
              "<table border=\"1\" class=\"dataframe\">\n",
              "  <thead>\n",
              "    <tr style=\"text-align: right;\">\n",
              "      <th></th>\n",
              "      <th>ID</th>\n",
              "      <th>STATE</th>\n",
              "      <th>AGE</th>\n",
              "      <th>OCCUPATION</th>\n",
              "      <th>INCOME_GROUP</th>\n",
              "      <th>CUSTOMER_SINCE</th>\n",
              "      <th>LOYALTY_PROGRAM</th>\n",
              "      <th>PAST_PURCHASE</th>\n",
              "    </tr>\n",
              "  </thead>\n",
              "  <tbody>\n",
              "    <tr>\n",
              "      <th>0</th>\n",
              "      <td>150001</td>\n",
              "      <td>Maharashtra</td>\n",
              "      <td>50</td>\n",
              "      <td>Self employed</td>\n",
              "      <td>Medium</td>\n",
              "      <td>2018</td>\n",
              "      <td>No</td>\n",
              "      <td>12746</td>\n",
              "    </tr>\n",
              "    <tr>\n",
              "      <th>1</th>\n",
              "      <td>150002</td>\n",
              "      <td>Maharashtra</td>\n",
              "      <td>58</td>\n",
              "      <td>Self employed</td>\n",
              "      <td>High</td>\n",
              "      <td>2011</td>\n",
              "      <td>Yes</td>\n",
              "      <td>12277</td>\n",
              "    </tr>\n",
              "    <tr>\n",
              "      <th>2</th>\n",
              "      <td>150003</td>\n",
              "      <td>Andaman and Nicobar Islands</td>\n",
              "      <td>30</td>\n",
              "      <td>Salaried</td>\n",
              "      <td>Low</td>\n",
              "      <td>2017</td>\n",
              "      <td>Yes</td>\n",
              "      <td>16401</td>\n",
              "    </tr>\n",
              "    <tr>\n",
              "      <th>3</th>\n",
              "      <td>150004</td>\n",
              "      <td>Mizoram</td>\n",
              "      <td>27</td>\n",
              "      <td>Salaried</td>\n",
              "      <td>Low</td>\n",
              "      <td>2018</td>\n",
              "      <td>Yes</td>\n",
              "      <td>9665</td>\n",
              "    </tr>\n",
              "    <tr>\n",
              "      <th>4</th>\n",
              "      <td>150005</td>\n",
              "      <td>Uttar Pradesh</td>\n",
              "      <td>67</td>\n",
              "      <td></td>\n",
              "      <td>Medium</td>\n",
              "      <td>2014</td>\n",
              "      <td>No</td>\n",
              "      <td>15724</td>\n",
              "    </tr>\n",
              "    <tr>\n",
              "      <th>5</th>\n",
              "      <td>150006</td>\n",
              "      <td>Maharashtra</td>\n",
              "      <td>57</td>\n",
              "      <td>Self employed</td>\n",
              "      <td>High</td>\n",
              "      <td>2010</td>\n",
              "      <td>NaN</td>\n",
              "      <td>58967</td>\n",
              "    </tr>\n",
              "    <tr>\n",
              "      <th>6</th>\n",
              "      <td>150007</td>\n",
              "      <td>Maharashtra</td>\n",
              "      <td>50</td>\n",
              "      <td>Self employed</td>\n",
              "      <td>Medium</td>\n",
              "      <td>2013</td>\n",
              "      <td>No</td>\n",
              "      <td>14527</td>\n",
              "    </tr>\n",
              "    <tr>\n",
              "      <th>7</th>\n",
              "      <td>150008</td>\n",
              "      <td>Maharashtra</td>\n",
              "      <td>45</td>\n",
              "      <td>Self employed</td>\n",
              "      <td>Medium</td>\n",
              "      <td>2013</td>\n",
              "      <td>Yes</td>\n",
              "      <td>16032</td>\n",
              "    </tr>\n",
              "    <tr>\n",
              "      <th>8</th>\n",
              "      <td>150009</td>\n",
              "      <td>Puducherry</td>\n",
              "      <td>26</td>\n",
              "      <td>Salaried</td>\n",
              "      <td>Low</td>\n",
              "      <td>2018</td>\n",
              "      <td>No</td>\n",
              "      <td>4465</td>\n",
              "    </tr>\n",
              "    <tr>\n",
              "      <th>9</th>\n",
              "      <td>150010</td>\n",
              "      <td>Maharashtra</td>\n",
              "      <td>72</td>\n",
              "      <td></td>\n",
              "      <td>Low</td>\n",
              "      <td>2014</td>\n",
              "      <td>No</td>\n",
              "      <td>14203</td>\n",
              "    </tr>\n",
              "    <tr>\n",
              "      <th>10</th>\n",
              "      <td>150011</td>\n",
              "      <td>Tamil Nadu</td>\n",
              "      <td>63</td>\n",
              "      <td></td>\n",
              "      <td>Medium</td>\n",
              "      <td>2012</td>\n",
              "      <td>Yes</td>\n",
              "      <td>5332</td>\n",
              "    </tr>\n",
              "    <tr>\n",
              "      <th>11</th>\n",
              "      <td>150012</td>\n",
              "      <td>Gujarat</td>\n",
              "      <td>41</td>\n",
              "      <td>Self employed</td>\n",
              "      <td>Low</td>\n",
              "      <td>2017</td>\n",
              "      <td>No</td>\n",
              "      <td>3431</td>\n",
              "    </tr>\n",
              "    <tr>\n",
              "      <th>12</th>\n",
              "      <td>150013</td>\n",
              "      <td>Tamil Nadu</td>\n",
              "      <td>51</td>\n",
              "      <td>Self employed</td>\n",
              "      <td>High</td>\n",
              "      <td>2017</td>\n",
              "      <td>Yes</td>\n",
              "      <td>6677</td>\n",
              "    </tr>\n",
              "    <tr>\n",
              "      <th>13</th>\n",
              "      <td>150014</td>\n",
              "      <td>Karnataka</td>\n",
              "      <td>72</td>\n",
              "      <td></td>\n",
              "      <td>Medium</td>\n",
              "      <td>2016</td>\n",
              "      <td>Yes</td>\n",
              "      <td>6211</td>\n",
              "    </tr>\n",
              "    <tr>\n",
              "      <th>14</th>\n",
              "      <td>150015</td>\n",
              "      <td>Tamil Nadu</td>\n",
              "      <td>63</td>\n",
              "      <td></td>\n",
              "      <td>Low</td>\n",
              "      <td>2017</td>\n",
              "      <td>Yes</td>\n",
              "      <td>17518</td>\n",
              "    </tr>\n",
              "  </tbody>\n",
              "</table>\n",
              "</div>"
            ],
            "text/plain": [
              "        ID                        STATE  ...  LOYALTY_PROGRAM PAST_PURCHASE\n",
              "0   150001                  Maharashtra  ...               No         12746\n",
              "1   150002                  Maharashtra  ...              Yes         12277\n",
              "2   150003  Andaman and Nicobar Islands  ...              Yes         16401\n",
              "3   150004                      Mizoram  ...              Yes          9665\n",
              "4   150005                Uttar Pradesh  ...               No         15724\n",
              "5   150006                  Maharashtra  ...              NaN         58967\n",
              "6   150007                  Maharashtra  ...               No         14527\n",
              "7   150008                  Maharashtra  ...              Yes         16032\n",
              "8   150009                   Puducherry  ...               No          4465\n",
              "9   150010                  Maharashtra  ...               No         14203\n",
              "10  150011                   Tamil Nadu  ...              Yes          5332\n",
              "11  150012                      Gujarat  ...               No          3431\n",
              "12  150013                   Tamil Nadu  ...              Yes          6677\n",
              "13  150014                    Karnataka  ...              Yes          6211\n",
              "14  150015                   Tamil Nadu  ...              Yes         17518\n",
              "\n",
              "[15 rows x 8 columns]"
            ]
          },
          "metadata": {
            "tags": []
          },
          "execution_count": 46
        }
      ]
    },
    {
      "cell_type": "code",
      "metadata": {
        "colab": {
          "base_uri": "https://localhost:8080/",
          "height": 491
        },
        "id": "B-yTeH3S94gJ",
        "outputId": "d6df96a2-b6f1-4260-dc4c-7ca27dc53e3c"
      },
      "source": [
        "df_test = pd.read_csv('/content/drive/MyDrive/pidilite ds intern/test.csv', na_values= [' '])\n",
        "df_test.head(15)"
      ],
      "execution_count": null,
      "outputs": [
        {
          "output_type": "execute_result",
          "data": {
            "text/html": [
              "<div>\n",
              "<style scoped>\n",
              "    .dataframe tbody tr th:only-of-type {\n",
              "        vertical-align: middle;\n",
              "    }\n",
              "\n",
              "    .dataframe tbody tr th {\n",
              "        vertical-align: top;\n",
              "    }\n",
              "\n",
              "    .dataframe thead th {\n",
              "        text-align: right;\n",
              "    }\n",
              "</style>\n",
              "<table border=\"1\" class=\"dataframe\">\n",
              "  <thead>\n",
              "    <tr style=\"text-align: right;\">\n",
              "      <th></th>\n",
              "      <th>ID</th>\n",
              "      <th>STATE</th>\n",
              "      <th>AGE</th>\n",
              "      <th>OCCUPATION</th>\n",
              "      <th>INCOME_GROUP</th>\n",
              "      <th>CUSTOMER_SINCE</th>\n",
              "      <th>LOYALTY_PROGRAM</th>\n",
              "      <th>PAST_PURCHASE</th>\n",
              "    </tr>\n",
              "  </thead>\n",
              "  <tbody>\n",
              "    <tr>\n",
              "      <th>0</th>\n",
              "      <td>150001</td>\n",
              "      <td>Maharashtra</td>\n",
              "      <td>50</td>\n",
              "      <td>Self employed</td>\n",
              "      <td>Medium</td>\n",
              "      <td>2018</td>\n",
              "      <td>No</td>\n",
              "      <td>12746</td>\n",
              "    </tr>\n",
              "    <tr>\n",
              "      <th>1</th>\n",
              "      <td>150002</td>\n",
              "      <td>Maharashtra</td>\n",
              "      <td>58</td>\n",
              "      <td>Self employed</td>\n",
              "      <td>High</td>\n",
              "      <td>2011</td>\n",
              "      <td>Yes</td>\n",
              "      <td>12277</td>\n",
              "    </tr>\n",
              "    <tr>\n",
              "      <th>2</th>\n",
              "      <td>150003</td>\n",
              "      <td>Andaman and Nicobar Islands</td>\n",
              "      <td>30</td>\n",
              "      <td>Salaried</td>\n",
              "      <td>Low</td>\n",
              "      <td>2017</td>\n",
              "      <td>Yes</td>\n",
              "      <td>16401</td>\n",
              "    </tr>\n",
              "    <tr>\n",
              "      <th>3</th>\n",
              "      <td>150004</td>\n",
              "      <td>Mizoram</td>\n",
              "      <td>27</td>\n",
              "      <td>Salaried</td>\n",
              "      <td>Low</td>\n",
              "      <td>2018</td>\n",
              "      <td>Yes</td>\n",
              "      <td>9665</td>\n",
              "    </tr>\n",
              "    <tr>\n",
              "      <th>4</th>\n",
              "      <td>150005</td>\n",
              "      <td>Uttar Pradesh</td>\n",
              "      <td>67</td>\n",
              "      <td>NaN</td>\n",
              "      <td>Medium</td>\n",
              "      <td>2014</td>\n",
              "      <td>No</td>\n",
              "      <td>15724</td>\n",
              "    </tr>\n",
              "    <tr>\n",
              "      <th>5</th>\n",
              "      <td>150006</td>\n",
              "      <td>Maharashtra</td>\n",
              "      <td>57</td>\n",
              "      <td>Self employed</td>\n",
              "      <td>High</td>\n",
              "      <td>2010</td>\n",
              "      <td>NaN</td>\n",
              "      <td>58967</td>\n",
              "    </tr>\n",
              "    <tr>\n",
              "      <th>6</th>\n",
              "      <td>150007</td>\n",
              "      <td>Maharashtra</td>\n",
              "      <td>50</td>\n",
              "      <td>Self employed</td>\n",
              "      <td>Medium</td>\n",
              "      <td>2013</td>\n",
              "      <td>No</td>\n",
              "      <td>14527</td>\n",
              "    </tr>\n",
              "    <tr>\n",
              "      <th>7</th>\n",
              "      <td>150008</td>\n",
              "      <td>Maharashtra</td>\n",
              "      <td>45</td>\n",
              "      <td>Self employed</td>\n",
              "      <td>Medium</td>\n",
              "      <td>2013</td>\n",
              "      <td>Yes</td>\n",
              "      <td>16032</td>\n",
              "    </tr>\n",
              "    <tr>\n",
              "      <th>8</th>\n",
              "      <td>150009</td>\n",
              "      <td>Puducherry</td>\n",
              "      <td>26</td>\n",
              "      <td>Salaried</td>\n",
              "      <td>Low</td>\n",
              "      <td>2018</td>\n",
              "      <td>No</td>\n",
              "      <td>4465</td>\n",
              "    </tr>\n",
              "    <tr>\n",
              "      <th>9</th>\n",
              "      <td>150010</td>\n",
              "      <td>Maharashtra</td>\n",
              "      <td>72</td>\n",
              "      <td>NaN</td>\n",
              "      <td>Low</td>\n",
              "      <td>2014</td>\n",
              "      <td>No</td>\n",
              "      <td>14203</td>\n",
              "    </tr>\n",
              "    <tr>\n",
              "      <th>10</th>\n",
              "      <td>150011</td>\n",
              "      <td>Tamil Nadu</td>\n",
              "      <td>63</td>\n",
              "      <td>NaN</td>\n",
              "      <td>Medium</td>\n",
              "      <td>2012</td>\n",
              "      <td>Yes</td>\n",
              "      <td>5332</td>\n",
              "    </tr>\n",
              "    <tr>\n",
              "      <th>11</th>\n",
              "      <td>150012</td>\n",
              "      <td>Gujarat</td>\n",
              "      <td>41</td>\n",
              "      <td>Self employed</td>\n",
              "      <td>Low</td>\n",
              "      <td>2017</td>\n",
              "      <td>No</td>\n",
              "      <td>3431</td>\n",
              "    </tr>\n",
              "    <tr>\n",
              "      <th>12</th>\n",
              "      <td>150013</td>\n",
              "      <td>Tamil Nadu</td>\n",
              "      <td>51</td>\n",
              "      <td>Self employed</td>\n",
              "      <td>High</td>\n",
              "      <td>2017</td>\n",
              "      <td>Yes</td>\n",
              "      <td>6677</td>\n",
              "    </tr>\n",
              "    <tr>\n",
              "      <th>13</th>\n",
              "      <td>150014</td>\n",
              "      <td>Karnataka</td>\n",
              "      <td>72</td>\n",
              "      <td>NaN</td>\n",
              "      <td>Medium</td>\n",
              "      <td>2016</td>\n",
              "      <td>Yes</td>\n",
              "      <td>6211</td>\n",
              "    </tr>\n",
              "    <tr>\n",
              "      <th>14</th>\n",
              "      <td>150015</td>\n",
              "      <td>Tamil Nadu</td>\n",
              "      <td>63</td>\n",
              "      <td>NaN</td>\n",
              "      <td>Low</td>\n",
              "      <td>2017</td>\n",
              "      <td>Yes</td>\n",
              "      <td>17518</td>\n",
              "    </tr>\n",
              "  </tbody>\n",
              "</table>\n",
              "</div>"
            ],
            "text/plain": [
              "        ID                        STATE  ...  LOYALTY_PROGRAM PAST_PURCHASE\n",
              "0   150001                  Maharashtra  ...               No         12746\n",
              "1   150002                  Maharashtra  ...              Yes         12277\n",
              "2   150003  Andaman and Nicobar Islands  ...              Yes         16401\n",
              "3   150004                      Mizoram  ...              Yes          9665\n",
              "4   150005                Uttar Pradesh  ...               No         15724\n",
              "5   150006                  Maharashtra  ...              NaN         58967\n",
              "6   150007                  Maharashtra  ...               No         14527\n",
              "7   150008                  Maharashtra  ...              Yes         16032\n",
              "8   150009                   Puducherry  ...               No          4465\n",
              "9   150010                  Maharashtra  ...               No         14203\n",
              "10  150011                   Tamil Nadu  ...              Yes          5332\n",
              "11  150012                      Gujarat  ...               No          3431\n",
              "12  150013                   Tamil Nadu  ...              Yes          6677\n",
              "13  150014                    Karnataka  ...              Yes          6211\n",
              "14  150015                   Tamil Nadu  ...              Yes         17518\n",
              "\n",
              "[15 rows x 8 columns]"
            ]
          },
          "metadata": {
            "tags": []
          },
          "execution_count": 47
        }
      ]
    },
    {
      "cell_type": "code",
      "metadata": {
        "colab": {
          "base_uri": "https://localhost:8080/"
        },
        "id": "c0YDGT4o94kl",
        "outputId": "a36acdce-b887-4eb4-ee8b-ec119089c2d2"
      },
      "source": [
        "df_test.isnull().sum()"
      ],
      "execution_count": null,
      "outputs": [
        {
          "output_type": "execute_result",
          "data": {
            "text/plain": [
              "ID                     0\n",
              "STATE                576\n",
              "AGE                    0\n",
              "OCCUPATION         14380\n",
              "INCOME_GROUP        1118\n",
              "CUSTOMER_SINCE         0\n",
              "LOYALTY_PROGRAM     6004\n",
              "PAST_PURCHASE          0\n",
              "dtype: int64"
            ]
          },
          "metadata": {
            "tags": []
          },
          "execution_count": 48
        }
      ]
    },
    {
      "cell_type": "code",
      "metadata": {
        "colab": {
          "base_uri": "https://localhost:8080/"
        },
        "id": "lzfEJNdK94pq",
        "outputId": "9f829bf8-216f-4c53-ffc9-ee2698d4bffc"
      },
      "source": [
        "df_test.columns"
      ],
      "execution_count": null,
      "outputs": [
        {
          "output_type": "execute_result",
          "data": {
            "text/plain": [
              "Index(['ID', 'STATE', 'AGE', 'OCCUPATION', 'INCOME_GROUP', 'CUSTOMER_SINCE',\n",
              "       'LOYALTY_PROGRAM', 'PAST_PURCHASE'],\n",
              "      dtype='object')"
            ]
          },
          "metadata": {
            "tags": []
          },
          "execution_count": 49
        }
      ]
    },
    {
      "cell_type": "code",
      "metadata": {
        "id": "UaifADaT94uf"
      },
      "source": [
        "missing_data_test = ['STATE','OCCUPATION', 'INCOME_GROUP', 'LOYALTY_PROGRAM']"
      ],
      "execution_count": null,
      "outputs": []
    },
    {
      "cell_type": "code",
      "metadata": {
        "colab": {
          "base_uri": "https://localhost:8080/",
          "height": 106
        },
        "id": "lC7DAyy594yA",
        "outputId": "c3707efd-a28c-4c07-8399-cc136d015ce7"
      },
      "source": [
        "id_series = df_test['ID']\n",
        "df_test = df_test.drop('ID',axis=1)\n",
        "df_test.head(2)"
      ],
      "execution_count": null,
      "outputs": [
        {
          "output_type": "execute_result",
          "data": {
            "text/html": [
              "<div>\n",
              "<style scoped>\n",
              "    .dataframe tbody tr th:only-of-type {\n",
              "        vertical-align: middle;\n",
              "    }\n",
              "\n",
              "    .dataframe tbody tr th {\n",
              "        vertical-align: top;\n",
              "    }\n",
              "\n",
              "    .dataframe thead th {\n",
              "        text-align: right;\n",
              "    }\n",
              "</style>\n",
              "<table border=\"1\" class=\"dataframe\">\n",
              "  <thead>\n",
              "    <tr style=\"text-align: right;\">\n",
              "      <th></th>\n",
              "      <th>STATE</th>\n",
              "      <th>AGE</th>\n",
              "      <th>OCCUPATION</th>\n",
              "      <th>INCOME_GROUP</th>\n",
              "      <th>CUSTOMER_SINCE</th>\n",
              "      <th>LOYALTY_PROGRAM</th>\n",
              "      <th>PAST_PURCHASE</th>\n",
              "    </tr>\n",
              "  </thead>\n",
              "  <tbody>\n",
              "    <tr>\n",
              "      <th>0</th>\n",
              "      <td>Maharashtra</td>\n",
              "      <td>50</td>\n",
              "      <td>Self employed</td>\n",
              "      <td>Medium</td>\n",
              "      <td>2018</td>\n",
              "      <td>No</td>\n",
              "      <td>12746</td>\n",
              "    </tr>\n",
              "    <tr>\n",
              "      <th>1</th>\n",
              "      <td>Maharashtra</td>\n",
              "      <td>58</td>\n",
              "      <td>Self employed</td>\n",
              "      <td>High</td>\n",
              "      <td>2011</td>\n",
              "      <td>Yes</td>\n",
              "      <td>12277</td>\n",
              "    </tr>\n",
              "  </tbody>\n",
              "</table>\n",
              "</div>"
            ],
            "text/plain": [
              "         STATE  AGE  ... LOYALTY_PROGRAM PAST_PURCHASE\n",
              "0  Maharashtra   50  ...              No         12746\n",
              "1  Maharashtra   58  ...             Yes         12277\n",
              "\n",
              "[2 rows x 7 columns]"
            ]
          },
          "metadata": {
            "tags": []
          },
          "execution_count": 51
        }
      ]
    },
    {
      "cell_type": "code",
      "metadata": {
        "colab": {
          "base_uri": "https://localhost:8080/"
        },
        "id": "S6UqoNZE941I",
        "outputId": "a9cd08f2-a184-45b3-9800-a64638487c91"
      },
      "source": [
        "print('STATE:',df_test['STATE'].unique())"
      ],
      "execution_count": null,
      "outputs": [
        {
          "output_type": "stream",
          "text": [
            "STATE: ['Maharashtra' 'Andaman and Nicobar Islands' 'Mizoram' 'Uttar Pradesh'\n",
            " 'Puducherry' 'Tamil Nadu' 'Gujarat' 'Karnataka' 'Kerala'\n",
            " 'Himachal Pradesh' 'Punjab' 'Rajasthan' 'West Bengal' 'Uttarakhand' nan\n",
            " 'Telangana' 'Chandigarh' 'Meghalaya' 'Andhra Pradesh' 'Chhattisgarh'\n",
            " 'Delhi' 'Assam' 'Goa' 'Odisha' 'Jammu and Kashmir' 'Haryana' 'Bihar'\n",
            " 'Jharkhand' 'Madhya Pradesh' 'Nagaland' 'Arunachal Pradesh' 'Tripura'\n",
            " 'Sikkim' 'Manipur']\n"
          ],
          "name": "stdout"
        }
      ]
    },
    {
      "cell_type": "code",
      "metadata": {
        "colab": {
          "base_uri": "https://localhost:8080/"
        },
        "id": "rmq3drfv9443",
        "outputId": "b71f702f-534f-41a8-ba15-92cbf9724816"
      },
      "source": [
        "print('OCCUPATION',df_test['OCCUPATION'].unique())"
      ],
      "execution_count": null,
      "outputs": [
        {
          "output_type": "stream",
          "text": [
            "OCCUPATION ['Self employed' 'Salaried' nan 'Business']\n"
          ],
          "name": "stdout"
        }
      ]
    },
    {
      "cell_type": "code",
      "metadata": {
        "colab": {
          "base_uri": "https://localhost:8080/"
        },
        "id": "WE4tmCai948p",
        "outputId": "61e12e7d-dae8-49e2-da6a-0c64ac05b72c"
      },
      "source": [
        "print('INCOME_GROUP:',df_test['INCOME_GROUP'].unique())"
      ],
      "execution_count": null,
      "outputs": [
        {
          "output_type": "stream",
          "text": [
            "INCOME_GROUP: ['Medium' 'High' 'Low' nan]\n"
          ],
          "name": "stdout"
        }
      ]
    },
    {
      "cell_type": "code",
      "metadata": {
        "colab": {
          "base_uri": "https://localhost:8080/"
        },
        "id": "-Ih-wajV95AX",
        "outputId": "b8ffb040-7c78-4304-8be3-434b6309f636"
      },
      "source": [
        "print('LOYALTY_PROGRAM:',df_test['LOYALTY_PROGRAM'].unique())"
      ],
      "execution_count": null,
      "outputs": [
        {
          "output_type": "stream",
          "text": [
            "LOYALTY_PROGRAM: ['No' 'Yes' nan]\n"
          ],
          "name": "stdout"
        }
      ]
    },
    {
      "cell_type": "code",
      "metadata": {
        "colab": {
          "base_uri": "https://localhost:8080/"
        },
        "id": "pBJlXOveDm1n",
        "outputId": "66db8653-e239-480a-b052-247702e537dd"
      },
      "source": [
        "df_test['OCCUPATION'] = df_test['OCCUPATION'].map({'Salaried':0,'Self employed':1, 'Business':2})\n",
        "print('OCCUPATION',df_test['OCCUPATION'].unique())"
      ],
      "execution_count": null,
      "outputs": [
        {
          "output_type": "stream",
          "text": [
            "OCCUPATION [ 1.  0. nan  2.]\n"
          ],
          "name": "stdout"
        }
      ]
    },
    {
      "cell_type": "code",
      "metadata": {
        "colab": {
          "base_uri": "https://localhost:8080/"
        },
        "id": "10xdUNwmDm5t",
        "outputId": "fe3fedde-bb7c-4156-fbbd-18bc167f6e94"
      },
      "source": [
        "df_test['LOYALTY_PROGRAM'] = df_test['LOYALTY_PROGRAM'].map({'No':0,'Yes':1})\n",
        "print('LOYALTY_PROGRAM:',df_test['LOYALTY_PROGRAM'].unique())"
      ],
      "execution_count": null,
      "outputs": [
        {
          "output_type": "stream",
          "text": [
            "LOYALTY_PROGRAM: [ 0.  1. nan]\n"
          ],
          "name": "stdout"
        }
      ]
    },
    {
      "cell_type": "code",
      "metadata": {
        "colab": {
          "base_uri": "https://localhost:8080/"
        },
        "id": "ZUARAlaUDm9j",
        "outputId": "5c7f9a66-06ff-4eb7-eacf-ef01f4308ad6"
      },
      "source": [
        "df_test['STATE'] = df_test['STATE'].map({'Uttar Pradesh':0, 'Madhya Pradesh':1, 'West Bengal':2, 'Tamil Nadu':3, 'Maharashtra':4,\n",
        " 'Kerala':5, 'Goa':6, 'Karnataka':7, 'Andhra Pradesh':8, 'Chandigarh':9, 'Nagaland':10,\n",
        " 'Andaman and Nicobar Islands':11, 'Tripura':12, 'Delhi':13, 'Himachal Pradesh':14,\n",
        " 'Puducherry':15, 'Sikkim':16, 'Gujarat':17, 'Odisha':18, 'Bihar':19, 'Telangana':20, 'Punjab':21,\n",
        " 'Arunachal Pradesh':22, 'Haryana':23, 'Rajasthan':24, 'Uttarakhand':25,\n",
        " 'Jammu and Kashmir':26, 'Assam':27, 'Manipur':28, 'Mizoram':29, 'Jharkhand':30,\n",
        " 'Chhattisgarh':31, 'Meghalaya':32})\n",
        "print('STATE:',df_test['STATE'].unique())"
      ],
      "execution_count": null,
      "outputs": [
        {
          "output_type": "stream",
          "text": [
            "STATE: [ 4. 11. 29.  0. 15.  3. 17.  7.  5. 14. 21. 24.  2. 25. nan 20.  9. 32.\n",
            "  8. 31. 13. 27.  6. 18. 26. 23. 19. 30.  1. 10. 22. 12. 16. 28.]\n"
          ],
          "name": "stdout"
        }
      ]
    },
    {
      "cell_type": "code",
      "metadata": {
        "colab": {
          "base_uri": "https://localhost:8080/"
        },
        "id": "kjuyJgqBDnBV",
        "outputId": "7010e4e1-93cd-47c2-ded5-61dac96bf002"
      },
      "source": [
        "df_test['INCOME_GROUP'] = df_test['INCOME_GROUP'].map({'Low':0,'High':1, 'Medium':2})\n",
        "print('INCOME_GROUP:',df_test['INCOME_GROUP'].unique())"
      ],
      "execution_count": null,
      "outputs": [
        {
          "output_type": "stream",
          "text": [
            "INCOME_GROUP: [ 2.  1.  0. nan]\n"
          ],
          "name": "stdout"
        }
      ]
    },
    {
      "cell_type": "code",
      "metadata": {
        "colab": {
          "base_uri": "https://localhost:8080/",
          "height": 639
        },
        "id": "5ElTEuZ7DnFf",
        "outputId": "e8f78640-8d1c-4eff-aa24-376885500841"
      },
      "source": [
        "df_test.head(20)"
      ],
      "execution_count": null,
      "outputs": [
        {
          "output_type": "execute_result",
          "data": {
            "text/html": [
              "<div>\n",
              "<style scoped>\n",
              "    .dataframe tbody tr th:only-of-type {\n",
              "        vertical-align: middle;\n",
              "    }\n",
              "\n",
              "    .dataframe tbody tr th {\n",
              "        vertical-align: top;\n",
              "    }\n",
              "\n",
              "    .dataframe thead th {\n",
              "        text-align: right;\n",
              "    }\n",
              "</style>\n",
              "<table border=\"1\" class=\"dataframe\">\n",
              "  <thead>\n",
              "    <tr style=\"text-align: right;\">\n",
              "      <th></th>\n",
              "      <th>STATE</th>\n",
              "      <th>AGE</th>\n",
              "      <th>OCCUPATION</th>\n",
              "      <th>INCOME_GROUP</th>\n",
              "      <th>CUSTOMER_SINCE</th>\n",
              "      <th>LOYALTY_PROGRAM</th>\n",
              "      <th>PAST_PURCHASE</th>\n",
              "    </tr>\n",
              "  </thead>\n",
              "  <tbody>\n",
              "    <tr>\n",
              "      <th>0</th>\n",
              "      <td>4.0</td>\n",
              "      <td>50</td>\n",
              "      <td>1.0</td>\n",
              "      <td>2.0</td>\n",
              "      <td>2018</td>\n",
              "      <td>0.0</td>\n",
              "      <td>12746</td>\n",
              "    </tr>\n",
              "    <tr>\n",
              "      <th>1</th>\n",
              "      <td>4.0</td>\n",
              "      <td>58</td>\n",
              "      <td>1.0</td>\n",
              "      <td>1.0</td>\n",
              "      <td>2011</td>\n",
              "      <td>1.0</td>\n",
              "      <td>12277</td>\n",
              "    </tr>\n",
              "    <tr>\n",
              "      <th>2</th>\n",
              "      <td>11.0</td>\n",
              "      <td>30</td>\n",
              "      <td>0.0</td>\n",
              "      <td>0.0</td>\n",
              "      <td>2017</td>\n",
              "      <td>1.0</td>\n",
              "      <td>16401</td>\n",
              "    </tr>\n",
              "    <tr>\n",
              "      <th>3</th>\n",
              "      <td>29.0</td>\n",
              "      <td>27</td>\n",
              "      <td>0.0</td>\n",
              "      <td>0.0</td>\n",
              "      <td>2018</td>\n",
              "      <td>1.0</td>\n",
              "      <td>9665</td>\n",
              "    </tr>\n",
              "    <tr>\n",
              "      <th>4</th>\n",
              "      <td>0.0</td>\n",
              "      <td>67</td>\n",
              "      <td>NaN</td>\n",
              "      <td>2.0</td>\n",
              "      <td>2014</td>\n",
              "      <td>0.0</td>\n",
              "      <td>15724</td>\n",
              "    </tr>\n",
              "    <tr>\n",
              "      <th>5</th>\n",
              "      <td>4.0</td>\n",
              "      <td>57</td>\n",
              "      <td>1.0</td>\n",
              "      <td>1.0</td>\n",
              "      <td>2010</td>\n",
              "      <td>NaN</td>\n",
              "      <td>58967</td>\n",
              "    </tr>\n",
              "    <tr>\n",
              "      <th>6</th>\n",
              "      <td>4.0</td>\n",
              "      <td>50</td>\n",
              "      <td>1.0</td>\n",
              "      <td>2.0</td>\n",
              "      <td>2013</td>\n",
              "      <td>0.0</td>\n",
              "      <td>14527</td>\n",
              "    </tr>\n",
              "    <tr>\n",
              "      <th>7</th>\n",
              "      <td>4.0</td>\n",
              "      <td>45</td>\n",
              "      <td>1.0</td>\n",
              "      <td>2.0</td>\n",
              "      <td>2013</td>\n",
              "      <td>1.0</td>\n",
              "      <td>16032</td>\n",
              "    </tr>\n",
              "    <tr>\n",
              "      <th>8</th>\n",
              "      <td>15.0</td>\n",
              "      <td>26</td>\n",
              "      <td>0.0</td>\n",
              "      <td>0.0</td>\n",
              "      <td>2018</td>\n",
              "      <td>0.0</td>\n",
              "      <td>4465</td>\n",
              "    </tr>\n",
              "    <tr>\n",
              "      <th>9</th>\n",
              "      <td>4.0</td>\n",
              "      <td>72</td>\n",
              "      <td>NaN</td>\n",
              "      <td>0.0</td>\n",
              "      <td>2014</td>\n",
              "      <td>0.0</td>\n",
              "      <td>14203</td>\n",
              "    </tr>\n",
              "    <tr>\n",
              "      <th>10</th>\n",
              "      <td>3.0</td>\n",
              "      <td>63</td>\n",
              "      <td>NaN</td>\n",
              "      <td>2.0</td>\n",
              "      <td>2012</td>\n",
              "      <td>1.0</td>\n",
              "      <td>5332</td>\n",
              "    </tr>\n",
              "    <tr>\n",
              "      <th>11</th>\n",
              "      <td>17.0</td>\n",
              "      <td>41</td>\n",
              "      <td>1.0</td>\n",
              "      <td>0.0</td>\n",
              "      <td>2017</td>\n",
              "      <td>0.0</td>\n",
              "      <td>3431</td>\n",
              "    </tr>\n",
              "    <tr>\n",
              "      <th>12</th>\n",
              "      <td>3.0</td>\n",
              "      <td>51</td>\n",
              "      <td>1.0</td>\n",
              "      <td>1.0</td>\n",
              "      <td>2017</td>\n",
              "      <td>1.0</td>\n",
              "      <td>6677</td>\n",
              "    </tr>\n",
              "    <tr>\n",
              "      <th>13</th>\n",
              "      <td>7.0</td>\n",
              "      <td>72</td>\n",
              "      <td>NaN</td>\n",
              "      <td>2.0</td>\n",
              "      <td>2016</td>\n",
              "      <td>1.0</td>\n",
              "      <td>6211</td>\n",
              "    </tr>\n",
              "    <tr>\n",
              "      <th>14</th>\n",
              "      <td>3.0</td>\n",
              "      <td>63</td>\n",
              "      <td>NaN</td>\n",
              "      <td>0.0</td>\n",
              "      <td>2017</td>\n",
              "      <td>1.0</td>\n",
              "      <td>17518</td>\n",
              "    </tr>\n",
              "    <tr>\n",
              "      <th>15</th>\n",
              "      <td>3.0</td>\n",
              "      <td>33</td>\n",
              "      <td>NaN</td>\n",
              "      <td>0.0</td>\n",
              "      <td>2017</td>\n",
              "      <td>0.0</td>\n",
              "      <td>6326</td>\n",
              "    </tr>\n",
              "    <tr>\n",
              "      <th>16</th>\n",
              "      <td>0.0</td>\n",
              "      <td>52</td>\n",
              "      <td>1.0</td>\n",
              "      <td>2.0</td>\n",
              "      <td>2017</td>\n",
              "      <td>0.0</td>\n",
              "      <td>12981</td>\n",
              "    </tr>\n",
              "    <tr>\n",
              "      <th>17</th>\n",
              "      <td>4.0</td>\n",
              "      <td>48</td>\n",
              "      <td>1.0</td>\n",
              "      <td>2.0</td>\n",
              "      <td>2013</td>\n",
              "      <td>1.0</td>\n",
              "      <td>3945</td>\n",
              "    </tr>\n",
              "    <tr>\n",
              "      <th>18</th>\n",
              "      <td>7.0</td>\n",
              "      <td>37</td>\n",
              "      <td>1.0</td>\n",
              "      <td>2.0</td>\n",
              "      <td>2017</td>\n",
              "      <td>0.0</td>\n",
              "      <td>5736</td>\n",
              "    </tr>\n",
              "    <tr>\n",
              "      <th>19</th>\n",
              "      <td>5.0</td>\n",
              "      <td>49</td>\n",
              "      <td>1.0</td>\n",
              "      <td>2.0</td>\n",
              "      <td>2017</td>\n",
              "      <td>0.0</td>\n",
              "      <td>11107</td>\n",
              "    </tr>\n",
              "  </tbody>\n",
              "</table>\n",
              "</div>"
            ],
            "text/plain": [
              "    STATE  AGE  OCCUPATION  ...  CUSTOMER_SINCE  LOYALTY_PROGRAM  PAST_PURCHASE\n",
              "0     4.0   50         1.0  ...            2018              0.0          12746\n",
              "1     4.0   58         1.0  ...            2011              1.0          12277\n",
              "2    11.0   30         0.0  ...            2017              1.0          16401\n",
              "3    29.0   27         0.0  ...            2018              1.0           9665\n",
              "4     0.0   67         NaN  ...            2014              0.0          15724\n",
              "5     4.0   57         1.0  ...            2010              NaN          58967\n",
              "6     4.0   50         1.0  ...            2013              0.0          14527\n",
              "7     4.0   45         1.0  ...            2013              1.0          16032\n",
              "8    15.0   26         0.0  ...            2018              0.0           4465\n",
              "9     4.0   72         NaN  ...            2014              0.0          14203\n",
              "10    3.0   63         NaN  ...            2012              1.0           5332\n",
              "11   17.0   41         1.0  ...            2017              0.0           3431\n",
              "12    3.0   51         1.0  ...            2017              1.0           6677\n",
              "13    7.0   72         NaN  ...            2016              1.0           6211\n",
              "14    3.0   63         NaN  ...            2017              1.0          17518\n",
              "15    3.0   33         NaN  ...            2017              0.0           6326\n",
              "16    0.0   52         1.0  ...            2017              0.0          12981\n",
              "17    4.0   48         1.0  ...            2013              1.0           3945\n",
              "18    7.0   37         1.0  ...            2017              0.0           5736\n",
              "19    5.0   49         1.0  ...            2017              0.0          11107\n",
              "\n",
              "[20 rows x 7 columns]"
            ]
          },
          "metadata": {
            "tags": []
          },
          "execution_count": 60
        }
      ]
    },
    {
      "cell_type": "code",
      "metadata": {
        "colab": {
          "base_uri": "https://localhost:8080/"
        },
        "id": "EHFbMWkODnIh",
        "outputId": "2b489e3c-fb45-4a39-de13-945b7e574d96"
      },
      "source": [
        "df_test[missing_data_test].isnull().sum()"
      ],
      "execution_count": null,
      "outputs": [
        {
          "output_type": "execute_result",
          "data": {
            "text/plain": [
              "STATE                576\n",
              "OCCUPATION         14380\n",
              "INCOME_GROUP        1118\n",
              "LOYALTY_PROGRAM     6004\n",
              "dtype: int64"
            ]
          },
          "metadata": {
            "tags": []
          },
          "execution_count": 61
        }
      ]
    },
    {
      "cell_type": "code",
      "metadata": {
        "id": "S3WoIOM9DnNY"
      },
      "source": [
        "df2 = df_test.copy()"
      ],
      "execution_count": null,
      "outputs": []
    },
    {
      "cell_type": "code",
      "metadata": {
        "id": "EtKRqQUVDnQb"
      },
      "source": [
        "from sklearn.impute import KNNImputer\n",
        "knn_imp2 = KNNImputer(n_neighbors=5)"
      ],
      "execution_count": null,
      "outputs": []
    },
    {
      "cell_type": "code",
      "metadata": {
        "id": "n4bVdofwDnT2"
      },
      "source": [
        "df2[missing_data_test] = knn_imp2.fit_transform(df2[missing_data_test])"
      ],
      "execution_count": null,
      "outputs": []
    },
    {
      "cell_type": "code",
      "metadata": {
        "colab": {
          "base_uri": "https://localhost:8080/"
        },
        "id": "BEccbiz2DnWy",
        "outputId": "a85bbbd2-913d-4768-b2ed-946402752d31"
      },
      "source": [
        "df2[missing_data_test].isnull().sum()"
      ],
      "execution_count": null,
      "outputs": [
        {
          "output_type": "execute_result",
          "data": {
            "text/plain": [
              "STATE              0\n",
              "OCCUPATION         0\n",
              "INCOME_GROUP       0\n",
              "LOYALTY_PROGRAM    0\n",
              "dtype: int64"
            ]
          },
          "metadata": {
            "tags": []
          },
          "execution_count": 65
        }
      ]
    },
    {
      "cell_type": "code",
      "metadata": {
        "colab": {
          "base_uri": "https://localhost:8080/",
          "height": 491
        },
        "id": "tPFFkICUDnZ5",
        "outputId": "2068a00d-39b2-4e1f-edee-86fdcd3015e7"
      },
      "source": [
        "df_test = df2.copy()\n",
        "df_test.head(15)"
      ],
      "execution_count": null,
      "outputs": [
        {
          "output_type": "execute_result",
          "data": {
            "text/html": [
              "<div>\n",
              "<style scoped>\n",
              "    .dataframe tbody tr th:only-of-type {\n",
              "        vertical-align: middle;\n",
              "    }\n",
              "\n",
              "    .dataframe tbody tr th {\n",
              "        vertical-align: top;\n",
              "    }\n",
              "\n",
              "    .dataframe thead th {\n",
              "        text-align: right;\n",
              "    }\n",
              "</style>\n",
              "<table border=\"1\" class=\"dataframe\">\n",
              "  <thead>\n",
              "    <tr style=\"text-align: right;\">\n",
              "      <th></th>\n",
              "      <th>STATE</th>\n",
              "      <th>AGE</th>\n",
              "      <th>OCCUPATION</th>\n",
              "      <th>INCOME_GROUP</th>\n",
              "      <th>CUSTOMER_SINCE</th>\n",
              "      <th>LOYALTY_PROGRAM</th>\n",
              "      <th>PAST_PURCHASE</th>\n",
              "    </tr>\n",
              "  </thead>\n",
              "  <tbody>\n",
              "    <tr>\n",
              "      <th>0</th>\n",
              "      <td>4.0</td>\n",
              "      <td>50</td>\n",
              "      <td>1.0</td>\n",
              "      <td>2.0</td>\n",
              "      <td>2018</td>\n",
              "      <td>0.0</td>\n",
              "      <td>12746</td>\n",
              "    </tr>\n",
              "    <tr>\n",
              "      <th>1</th>\n",
              "      <td>4.0</td>\n",
              "      <td>58</td>\n",
              "      <td>1.0</td>\n",
              "      <td>1.0</td>\n",
              "      <td>2011</td>\n",
              "      <td>1.0</td>\n",
              "      <td>12277</td>\n",
              "    </tr>\n",
              "    <tr>\n",
              "      <th>2</th>\n",
              "      <td>11.0</td>\n",
              "      <td>30</td>\n",
              "      <td>0.0</td>\n",
              "      <td>0.0</td>\n",
              "      <td>2017</td>\n",
              "      <td>1.0</td>\n",
              "      <td>16401</td>\n",
              "    </tr>\n",
              "    <tr>\n",
              "      <th>3</th>\n",
              "      <td>29.0</td>\n",
              "      <td>27</td>\n",
              "      <td>0.0</td>\n",
              "      <td>0.0</td>\n",
              "      <td>2018</td>\n",
              "      <td>1.0</td>\n",
              "      <td>9665</td>\n",
              "    </tr>\n",
              "    <tr>\n",
              "      <th>4</th>\n",
              "      <td>0.0</td>\n",
              "      <td>67</td>\n",
              "      <td>1.0</td>\n",
              "      <td>2.0</td>\n",
              "      <td>2014</td>\n",
              "      <td>0.0</td>\n",
              "      <td>15724</td>\n",
              "    </tr>\n",
              "    <tr>\n",
              "      <th>5</th>\n",
              "      <td>4.0</td>\n",
              "      <td>57</td>\n",
              "      <td>1.0</td>\n",
              "      <td>1.0</td>\n",
              "      <td>2010</td>\n",
              "      <td>0.8</td>\n",
              "      <td>58967</td>\n",
              "    </tr>\n",
              "    <tr>\n",
              "      <th>6</th>\n",
              "      <td>4.0</td>\n",
              "      <td>50</td>\n",
              "      <td>1.0</td>\n",
              "      <td>2.0</td>\n",
              "      <td>2013</td>\n",
              "      <td>0.0</td>\n",
              "      <td>14527</td>\n",
              "    </tr>\n",
              "    <tr>\n",
              "      <th>7</th>\n",
              "      <td>4.0</td>\n",
              "      <td>45</td>\n",
              "      <td>1.0</td>\n",
              "      <td>2.0</td>\n",
              "      <td>2013</td>\n",
              "      <td>1.0</td>\n",
              "      <td>16032</td>\n",
              "    </tr>\n",
              "    <tr>\n",
              "      <th>8</th>\n",
              "      <td>15.0</td>\n",
              "      <td>26</td>\n",
              "      <td>0.0</td>\n",
              "      <td>0.0</td>\n",
              "      <td>2018</td>\n",
              "      <td>0.0</td>\n",
              "      <td>4465</td>\n",
              "    </tr>\n",
              "    <tr>\n",
              "      <th>9</th>\n",
              "      <td>4.0</td>\n",
              "      <td>72</td>\n",
              "      <td>0.6</td>\n",
              "      <td>0.0</td>\n",
              "      <td>2014</td>\n",
              "      <td>0.0</td>\n",
              "      <td>14203</td>\n",
              "    </tr>\n",
              "    <tr>\n",
              "      <th>10</th>\n",
              "      <td>3.0</td>\n",
              "      <td>63</td>\n",
              "      <td>0.4</td>\n",
              "      <td>2.0</td>\n",
              "      <td>2012</td>\n",
              "      <td>1.0</td>\n",
              "      <td>5332</td>\n",
              "    </tr>\n",
              "    <tr>\n",
              "      <th>11</th>\n",
              "      <td>17.0</td>\n",
              "      <td>41</td>\n",
              "      <td>1.0</td>\n",
              "      <td>0.0</td>\n",
              "      <td>2017</td>\n",
              "      <td>0.0</td>\n",
              "      <td>3431</td>\n",
              "    </tr>\n",
              "    <tr>\n",
              "      <th>12</th>\n",
              "      <td>3.0</td>\n",
              "      <td>51</td>\n",
              "      <td>1.0</td>\n",
              "      <td>1.0</td>\n",
              "      <td>2017</td>\n",
              "      <td>1.0</td>\n",
              "      <td>6677</td>\n",
              "    </tr>\n",
              "    <tr>\n",
              "      <th>13</th>\n",
              "      <td>7.0</td>\n",
              "      <td>72</td>\n",
              "      <td>0.8</td>\n",
              "      <td>2.0</td>\n",
              "      <td>2016</td>\n",
              "      <td>1.0</td>\n",
              "      <td>6211</td>\n",
              "    </tr>\n",
              "    <tr>\n",
              "      <th>14</th>\n",
              "      <td>3.0</td>\n",
              "      <td>63</td>\n",
              "      <td>0.2</td>\n",
              "      <td>0.0</td>\n",
              "      <td>2017</td>\n",
              "      <td>1.0</td>\n",
              "      <td>17518</td>\n",
              "    </tr>\n",
              "  </tbody>\n",
              "</table>\n",
              "</div>"
            ],
            "text/plain": [
              "    STATE  AGE  OCCUPATION  ...  CUSTOMER_SINCE  LOYALTY_PROGRAM  PAST_PURCHASE\n",
              "0     4.0   50         1.0  ...            2018              0.0          12746\n",
              "1     4.0   58         1.0  ...            2011              1.0          12277\n",
              "2    11.0   30         0.0  ...            2017              1.0          16401\n",
              "3    29.0   27         0.0  ...            2018              1.0           9665\n",
              "4     0.0   67         1.0  ...            2014              0.0          15724\n",
              "5     4.0   57         1.0  ...            2010              0.8          58967\n",
              "6     4.0   50         1.0  ...            2013              0.0          14527\n",
              "7     4.0   45         1.0  ...            2013              1.0          16032\n",
              "8    15.0   26         0.0  ...            2018              0.0           4465\n",
              "9     4.0   72         0.6  ...            2014              0.0          14203\n",
              "10    3.0   63         0.4  ...            2012              1.0           5332\n",
              "11   17.0   41         1.0  ...            2017              0.0           3431\n",
              "12    3.0   51         1.0  ...            2017              1.0           6677\n",
              "13    7.0   72         0.8  ...            2016              1.0           6211\n",
              "14    3.0   63         0.2  ...            2017              1.0          17518\n",
              "\n",
              "[15 rows x 7 columns]"
            ]
          },
          "metadata": {
            "tags": []
          },
          "execution_count": 66
        }
      ]
    },
    {
      "cell_type": "markdown",
      "metadata": {
        "id": "nFotzY-2M-QX"
      },
      "source": [
        "# Building the Random Classifier Model to get the requierd data.\n",
        "\n"
      ]
    },
    {
      "cell_type": "code",
      "metadata": {
        "colab": {
          "base_uri": "https://localhost:8080/",
          "height": 195
        },
        "id": "iEgTI6aaM_D2",
        "outputId": "a70a1b1d-170f-464a-a771-4e0acdfe3ea0"
      },
      "source": [
        "# Storing dependent variable in X.\n",
        "X_train_data = df.drop('PURCHASE',axis=1)\n",
        "X_train_data.head()"
      ],
      "execution_count": null,
      "outputs": [
        {
          "output_type": "execute_result",
          "data": {
            "text/html": [
              "<div>\n",
              "<style scoped>\n",
              "    .dataframe tbody tr th:only-of-type {\n",
              "        vertical-align: middle;\n",
              "    }\n",
              "\n",
              "    .dataframe tbody tr th {\n",
              "        vertical-align: top;\n",
              "    }\n",
              "\n",
              "    .dataframe thead th {\n",
              "        text-align: right;\n",
              "    }\n",
              "</style>\n",
              "<table border=\"1\" class=\"dataframe\">\n",
              "  <thead>\n",
              "    <tr style=\"text-align: right;\">\n",
              "      <th></th>\n",
              "      <th>STATE</th>\n",
              "      <th>AGE</th>\n",
              "      <th>OCCUPATION</th>\n",
              "      <th>INCOME_GROUP</th>\n",
              "      <th>CUSTOMER_SINCE</th>\n",
              "      <th>LOYALTY_PROGRAM</th>\n",
              "      <th>PAST_PURCHASE</th>\n",
              "    </tr>\n",
              "  </thead>\n",
              "  <tbody>\n",
              "    <tr>\n",
              "      <th>0</th>\n",
              "      <td>0.0</td>\n",
              "      <td>28</td>\n",
              "      <td>0.2</td>\n",
              "      <td>0.0</td>\n",
              "      <td>2018</td>\n",
              "      <td>0.0</td>\n",
              "      <td>4937</td>\n",
              "    </tr>\n",
              "    <tr>\n",
              "      <th>1</th>\n",
              "      <td>1.0</td>\n",
              "      <td>27</td>\n",
              "      <td>0.0</td>\n",
              "      <td>0.0</td>\n",
              "      <td>2018</td>\n",
              "      <td>0.0</td>\n",
              "      <td>10834</td>\n",
              "    </tr>\n",
              "    <tr>\n",
              "      <th>2</th>\n",
              "      <td>2.0</td>\n",
              "      <td>62</td>\n",
              "      <td>1.0</td>\n",
              "      <td>1.0</td>\n",
              "      <td>2013</td>\n",
              "      <td>0.2</td>\n",
              "      <td>8610</td>\n",
              "    </tr>\n",
              "    <tr>\n",
              "      <th>3</th>\n",
              "      <td>3.0</td>\n",
              "      <td>27</td>\n",
              "      <td>0.0</td>\n",
              "      <td>0.0</td>\n",
              "      <td>2018</td>\n",
              "      <td>0.0</td>\n",
              "      <td>14374</td>\n",
              "    </tr>\n",
              "    <tr>\n",
              "      <th>4</th>\n",
              "      <td>0.0</td>\n",
              "      <td>40</td>\n",
              "      <td>1.0</td>\n",
              "      <td>1.0</td>\n",
              "      <td>2015</td>\n",
              "      <td>0.0</td>\n",
              "      <td>13158</td>\n",
              "    </tr>\n",
              "  </tbody>\n",
              "</table>\n",
              "</div>"
            ],
            "text/plain": [
              "   STATE  AGE  OCCUPATION  ...  CUSTOMER_SINCE  LOYALTY_PROGRAM  PAST_PURCHASE\n",
              "0    0.0   28         0.2  ...            2018              0.0           4937\n",
              "1    1.0   27         0.0  ...            2018              0.0          10834\n",
              "2    2.0   62         1.0  ...            2013              0.2           8610\n",
              "3    3.0   27         0.0  ...            2018              0.0          14374\n",
              "4    0.0   40         1.0  ...            2015              0.0          13158\n",
              "\n",
              "[5 rows x 7 columns]"
            ]
          },
          "metadata": {
            "tags": []
          },
          "execution_count": 67
        }
      ]
    },
    {
      "cell_type": "code",
      "metadata": {
        "colab": {
          "base_uri": "https://localhost:8080/"
        },
        "id": "S_sgvvL1NlcF",
        "outputId": "c93ab166-cea6-4794-a62f-741bf302ce93"
      },
      "source": [
        "# Storing dependent variable in y.\n",
        "y_train_data = df['PURCHASE']\n",
        "y_train_data.head()"
      ],
      "execution_count": null,
      "outputs": [
        {
          "output_type": "execute_result",
          "data": {
            "text/plain": [
              "0    0\n",
              "1    0\n",
              "2    1\n",
              "3    1\n",
              "4    0\n",
              "Name: PURCHASE, dtype: int64"
            ]
          },
          "metadata": {
            "tags": []
          },
          "execution_count": 68
        }
      ]
    },
    {
      "cell_type": "code",
      "metadata": {
        "id": "MflDm6r-NxXJ"
      },
      "source": [
        "# Scaling the data such that it is centered around 0 (due to large difference in range in dataset).\n",
        "from sklearn.preprocessing import StandardScaler\n",
        "ss = StandardScaler()\n",
        "X_train_data = ss.fit_transform(X_train_data)\n",
        "df_test = ss.transform(df_test)"
      ],
      "execution_count": null,
      "outputs": []
    },
    {
      "cell_type": "code",
      "metadata": {
        "id": "_1AqOBleOMbf"
      },
      "source": [
        "from sklearn.ensemble import RandomForestClassifier\n",
        "rfc = RandomForestClassifier()\n",
        "# Studying the dataset and training the ML model.\n",
        "rfc.fit(X_train_data, y_train_data)\n",
        "# Predicting the outcome based on the trained model.\n",
        "y_pred_test = rfc.predict(df_test)"
      ],
      "execution_count": null,
      "outputs": []
    },
    {
      "cell_type": "code",
      "metadata": {
        "colab": {
          "base_uri": "https://localhost:8080/"
        },
        "id": "EfBzYxvTOd9u",
        "outputId": "69150408-5c1f-461f-c572-8bd1dc141026"
      },
      "source": [
        "y_pred_test"
      ],
      "execution_count": null,
      "outputs": [
        {
          "output_type": "execute_result",
          "data": {
            "text/plain": [
              "array([0, 1, 0, ..., 0, 0, 0])"
            ]
          },
          "metadata": {
            "tags": []
          },
          "execution_count": 71
        }
      ]
    },
    {
      "cell_type": "code",
      "metadata": {
        "colab": {
          "base_uri": "https://localhost:8080/"
        },
        "id": "n7aZG0RhOkiO",
        "outputId": "4a0e2001-2b0a-4622-b5b0-274fa1f1e743"
      },
      "source": [
        "id_series"
      ],
      "execution_count": null,
      "outputs": [
        {
          "output_type": "execute_result",
          "data": {
            "text/plain": [
              "0        150001\n",
              "1        150002\n",
              "2        150003\n",
              "3        150004\n",
              "4        150005\n",
              "          ...  \n",
              "49995    199996\n",
              "49996    199997\n",
              "49997    199998\n",
              "49998    199999\n",
              "49999    200000\n",
              "Name: ID, Length: 50000, dtype: int64"
            ]
          },
          "metadata": {
            "tags": []
          },
          "execution_count": 72
        }
      ]
    },
    {
      "cell_type": "code",
      "metadata": {
        "colab": {
          "base_uri": "https://localhost:8080/"
        },
        "id": "obpRGSHQSZBW",
        "outputId": "b17cc1e7-b781-45d0-f649-2221ef290022"
      },
      "source": [
        "len(y_pred_test)"
      ],
      "execution_count": null,
      "outputs": [
        {
          "output_type": "execute_result",
          "data": {
            "text/plain": [
              "50000"
            ]
          },
          "metadata": {
            "tags": []
          },
          "execution_count": 73
        }
      ]
    },
    {
      "cell_type": "code",
      "metadata": {
        "colab": {
          "base_uri": "https://localhost:8080/"
        },
        "id": "LpksG86ZSdCB",
        "outputId": "298fdd06-fd73-425b-b9bf-559a741500ab"
      },
      "source": [
        "type(y_pred_test)"
      ],
      "execution_count": null,
      "outputs": [
        {
          "output_type": "execute_result",
          "data": {
            "text/plain": [
              "numpy.ndarray"
            ]
          },
          "metadata": {
            "tags": []
          },
          "execution_count": 74
        }
      ]
    },
    {
      "cell_type": "code",
      "metadata": {
        "colab": {
          "base_uri": "https://localhost:8080/"
        },
        "id": "8LwFxrQQShgs",
        "outputId": "0762a0b0-802b-4c2f-e7c4-1b94718aa830"
      },
      "source": [
        "type(id_series)"
      ],
      "execution_count": null,
      "outputs": [
        {
          "output_type": "execute_result",
          "data": {
            "text/plain": [
              "pandas.core.series.Series"
            ]
          },
          "metadata": {
            "tags": []
          },
          "execution_count": 75
        }
      ]
    },
    {
      "cell_type": "code",
      "metadata": {
        "id": "KgkwpiXkSlZX"
      },
      "source": [
        "pd_series = pd.Series(y_pred_test) "
      ],
      "execution_count": null,
      "outputs": []
    },
    {
      "cell_type": "code",
      "metadata": {
        "colab": {
          "base_uri": "https://localhost:8080/",
          "height": 402
        },
        "id": "8Vd8WcAbS1Dg",
        "outputId": "db9d10e8-6760-47d4-ed62-997cc4de4424"
      },
      "source": [
        "df3 = pd.concat([id_series, pd_series], axis=1)\n",
        "df3"
      ],
      "execution_count": null,
      "outputs": [
        {
          "output_type": "execute_result",
          "data": {
            "text/html": [
              "<div>\n",
              "<style scoped>\n",
              "    .dataframe tbody tr th:only-of-type {\n",
              "        vertical-align: middle;\n",
              "    }\n",
              "\n",
              "    .dataframe tbody tr th {\n",
              "        vertical-align: top;\n",
              "    }\n",
              "\n",
              "    .dataframe thead th {\n",
              "        text-align: right;\n",
              "    }\n",
              "</style>\n",
              "<table border=\"1\" class=\"dataframe\">\n",
              "  <thead>\n",
              "    <tr style=\"text-align: right;\">\n",
              "      <th></th>\n",
              "      <th>ID</th>\n",
              "      <th>0</th>\n",
              "    </tr>\n",
              "  </thead>\n",
              "  <tbody>\n",
              "    <tr>\n",
              "      <th>0</th>\n",
              "      <td>150001</td>\n",
              "      <td>0</td>\n",
              "    </tr>\n",
              "    <tr>\n",
              "      <th>1</th>\n",
              "      <td>150002</td>\n",
              "      <td>1</td>\n",
              "    </tr>\n",
              "    <tr>\n",
              "      <th>2</th>\n",
              "      <td>150003</td>\n",
              "      <td>0</td>\n",
              "    </tr>\n",
              "    <tr>\n",
              "      <th>3</th>\n",
              "      <td>150004</td>\n",
              "      <td>0</td>\n",
              "    </tr>\n",
              "    <tr>\n",
              "      <th>4</th>\n",
              "      <td>150005</td>\n",
              "      <td>0</td>\n",
              "    </tr>\n",
              "    <tr>\n",
              "      <th>...</th>\n",
              "      <td>...</td>\n",
              "      <td>...</td>\n",
              "    </tr>\n",
              "    <tr>\n",
              "      <th>49995</th>\n",
              "      <td>199996</td>\n",
              "      <td>0</td>\n",
              "    </tr>\n",
              "    <tr>\n",
              "      <th>49996</th>\n",
              "      <td>199997</td>\n",
              "      <td>1</td>\n",
              "    </tr>\n",
              "    <tr>\n",
              "      <th>49997</th>\n",
              "      <td>199998</td>\n",
              "      <td>0</td>\n",
              "    </tr>\n",
              "    <tr>\n",
              "      <th>49998</th>\n",
              "      <td>199999</td>\n",
              "      <td>0</td>\n",
              "    </tr>\n",
              "    <tr>\n",
              "      <th>49999</th>\n",
              "      <td>200000</td>\n",
              "      <td>0</td>\n",
              "    </tr>\n",
              "  </tbody>\n",
              "</table>\n",
              "<p>50000 rows × 2 columns</p>\n",
              "</div>"
            ],
            "text/plain": [
              "           ID  0\n",
              "0      150001  0\n",
              "1      150002  1\n",
              "2      150003  0\n",
              "3      150004  0\n",
              "4      150005  0\n",
              "...       ... ..\n",
              "49995  199996  0\n",
              "49996  199997  1\n",
              "49997  199998  0\n",
              "49998  199999  0\n",
              "49999  200000  0\n",
              "\n",
              "[50000 rows x 2 columns]"
            ]
          },
          "metadata": {
            "tags": []
          },
          "execution_count": 77
        }
      ]
    },
    {
      "cell_type": "code",
      "metadata": {
        "id": "9XABgDmLNVhc"
      },
      "source": [
        "df3.columns = ['ID', 'PURCHASE']"
      ],
      "execution_count": null,
      "outputs": []
    },
    {
      "cell_type": "code",
      "metadata": {
        "id": "1gYQ0G3WN8BD"
      },
      "source": [
        "df3['PURCHASE'] = df3['PURCHASE'].map({0:'No',1:'Yes'})"
      ],
      "execution_count": null,
      "outputs": []
    },
    {
      "cell_type": "code",
      "metadata": {
        "id": "avtOaVXcTRNK"
      },
      "source": [
        "df3.to_csv('final.csv')\n",
        "!cp final.csv \"drive/My Drive/\""
      ],
      "execution_count": null,
      "outputs": []
    },
    {
      "cell_type": "code",
      "metadata": {
        "id": "acBkwYq6UA9n",
        "colab": {
          "base_uri": "https://localhost:8080/"
        },
        "outputId": "7ff1f8c7-b594-4c67-cae0-eb261740b688"
      },
      "source": [
        "df3['PURCHASE'].value_counts()"
      ],
      "execution_count": null,
      "outputs": [
        {
          "output_type": "execute_result",
          "data": {
            "text/plain": [
              "No     40328\n",
              "Yes     9672\n",
              "Name: PURCHASE, dtype: int64"
            ]
          },
          "metadata": {
            "tags": []
          },
          "execution_count": 81
        }
      ]
    }
  ]
}